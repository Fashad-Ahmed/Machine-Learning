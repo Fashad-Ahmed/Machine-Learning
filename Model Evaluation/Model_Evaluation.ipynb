{
  "nbformat": 4,
  "nbformat_minor": 0,
  "metadata": {
    "colab": {
      "name": "Model_Evaluation.ipynb",
      "provenance": [],
      "collapsed_sections": []
    },
    "kernelspec": {
      "name": "python3",
      "display_name": "Python 3"
    },
    "language_info": {
      "name": "python"
    }
  },
  "cells": [
    {
      "cell_type": "markdown",
      "metadata": {
        "id": "0LsSvp62efPI"
      },
      "source": [
        "## Evaluating a machine learning model\n",
        "### There are 3 ways to evaluate Scikit-Learn models/esitmators:\n",
        "\n",
        "1. Estimator score method\n",
        "2. The scoring parameter\n",
        "3. Problem-specific metric functions."
      ]
    },
    {
      "cell_type": "markdown",
      "metadata": {
        "id": "YhGMBNGhe3ep"
      },
      "source": [
        " Evaluating a model with the score method "
      ]
    },
    {
      "cell_type": "code",
      "metadata": {
        "id": "Kr3w93CKdx2S"
      },
      "source": [
        "import numpy as np\n",
        "import pandas as pd\n",
        "import matplotlib.pyplot as plt\n",
        "import seaborn as sns\n",
        "%matplotlib inline\n"
      ],
      "execution_count": 4,
      "outputs": []
    },
    {
      "cell_type": "markdown",
      "metadata": {
        "id": "Nwl7u1-0gSrX"
      },
      "source": [
        " https://scikit-learn.org/stable/tutorial/machine_learning_map/index.html\n",
        "\n",
        "\n"
      ]
    },
    {
      "cell_type": "code",
      "metadata": {
        "colab": {
          "base_uri": "https://localhost:8080/",
          "height": 204
        },
        "id": "ZgcKXTz3hEZ6",
        "outputId": "2b78a255-47b4-4da6-cbf7-0c016b5916cf"
      },
      "source": [
        "heart_disease = pd.read_csv('./heart.csv')\n",
        "heart_disease.head()"
      ],
      "execution_count": 5,
      "outputs": [
        {
          "output_type": "execute_result",
          "data": {
            "text/html": [
              "<div>\n",
              "<style scoped>\n",
              "    .dataframe tbody tr th:only-of-type {\n",
              "        vertical-align: middle;\n",
              "    }\n",
              "\n",
              "    .dataframe tbody tr th {\n",
              "        vertical-align: top;\n",
              "    }\n",
              "\n",
              "    .dataframe thead th {\n",
              "        text-align: right;\n",
              "    }\n",
              "</style>\n",
              "<table border=\"1\" class=\"dataframe\">\n",
              "  <thead>\n",
              "    <tr style=\"text-align: right;\">\n",
              "      <th></th>\n",
              "      <th>age</th>\n",
              "      <th>sex</th>\n",
              "      <th>cp</th>\n",
              "      <th>trestbps</th>\n",
              "      <th>chol</th>\n",
              "      <th>fbs</th>\n",
              "      <th>restecg</th>\n",
              "      <th>thalach</th>\n",
              "      <th>exang</th>\n",
              "      <th>oldpeak</th>\n",
              "      <th>slope</th>\n",
              "      <th>ca</th>\n",
              "      <th>thal</th>\n",
              "      <th>target</th>\n",
              "    </tr>\n",
              "  </thead>\n",
              "  <tbody>\n",
              "    <tr>\n",
              "      <th>0</th>\n",
              "      <td>63</td>\n",
              "      <td>1</td>\n",
              "      <td>3</td>\n",
              "      <td>145</td>\n",
              "      <td>233</td>\n",
              "      <td>1</td>\n",
              "      <td>0</td>\n",
              "      <td>150</td>\n",
              "      <td>0</td>\n",
              "      <td>2.3</td>\n",
              "      <td>0</td>\n",
              "      <td>0</td>\n",
              "      <td>1</td>\n",
              "      <td>1</td>\n",
              "    </tr>\n",
              "    <tr>\n",
              "      <th>1</th>\n",
              "      <td>37</td>\n",
              "      <td>1</td>\n",
              "      <td>2</td>\n",
              "      <td>130</td>\n",
              "      <td>250</td>\n",
              "      <td>0</td>\n",
              "      <td>1</td>\n",
              "      <td>187</td>\n",
              "      <td>0</td>\n",
              "      <td>3.5</td>\n",
              "      <td>0</td>\n",
              "      <td>0</td>\n",
              "      <td>2</td>\n",
              "      <td>1</td>\n",
              "    </tr>\n",
              "    <tr>\n",
              "      <th>2</th>\n",
              "      <td>41</td>\n",
              "      <td>0</td>\n",
              "      <td>1</td>\n",
              "      <td>130</td>\n",
              "      <td>204</td>\n",
              "      <td>0</td>\n",
              "      <td>0</td>\n",
              "      <td>172</td>\n",
              "      <td>0</td>\n",
              "      <td>1.4</td>\n",
              "      <td>2</td>\n",
              "      <td>0</td>\n",
              "      <td>2</td>\n",
              "      <td>1</td>\n",
              "    </tr>\n",
              "    <tr>\n",
              "      <th>3</th>\n",
              "      <td>56</td>\n",
              "      <td>1</td>\n",
              "      <td>1</td>\n",
              "      <td>120</td>\n",
              "      <td>236</td>\n",
              "      <td>0</td>\n",
              "      <td>1</td>\n",
              "      <td>178</td>\n",
              "      <td>0</td>\n",
              "      <td>0.8</td>\n",
              "      <td>2</td>\n",
              "      <td>0</td>\n",
              "      <td>2</td>\n",
              "      <td>1</td>\n",
              "    </tr>\n",
              "    <tr>\n",
              "      <th>4</th>\n",
              "      <td>57</td>\n",
              "      <td>0</td>\n",
              "      <td>0</td>\n",
              "      <td>120</td>\n",
              "      <td>354</td>\n",
              "      <td>0</td>\n",
              "      <td>1</td>\n",
              "      <td>163</td>\n",
              "      <td>1</td>\n",
              "      <td>0.6</td>\n",
              "      <td>2</td>\n",
              "      <td>0</td>\n",
              "      <td>2</td>\n",
              "      <td>1</td>\n",
              "    </tr>\n",
              "  </tbody>\n",
              "</table>\n",
              "</div>"
            ],
            "text/plain": [
              "   age  sex  cp  trestbps  chol  fbs  ...  exang  oldpeak  slope  ca  thal  target\n",
              "0   63    1   3       145   233    1  ...      0      2.3      0   0     1       1\n",
              "1   37    1   2       130   250    0  ...      0      3.5      0   0     2       1\n",
              "2   41    0   1       130   204    0  ...      0      1.4      2   0     2       1\n",
              "3   56    1   1       120   236    0  ...      0      0.8      2   0     2       1\n",
              "4   57    0   0       120   354    0  ...      1      0.6      2   0     2       1\n",
              "\n",
              "[5 rows x 14 columns]"
            ]
          },
          "metadata": {},
          "execution_count": 5
        }
      ]
    },
    {
      "cell_type": "code",
      "metadata": {
        "colab": {
          "base_uri": "https://localhost:8080/"
        },
        "id": "rtowYMx5ilqK",
        "outputId": "9797363d-4884-461a-ddc2-2da47a2bd9d8"
      },
      "source": [
        "heart_disease.info()"
      ],
      "execution_count": 6,
      "outputs": [
        {
          "output_type": "stream",
          "name": "stdout",
          "text": [
            "<class 'pandas.core.frame.DataFrame'>\n",
            "RangeIndex: 303 entries, 0 to 302\n",
            "Data columns (total 14 columns):\n",
            " #   Column    Non-Null Count  Dtype  \n",
            "---  ------    --------------  -----  \n",
            " 0   age       303 non-null    int64  \n",
            " 1   sex       303 non-null    int64  \n",
            " 2   cp        303 non-null    int64  \n",
            " 3   trestbps  303 non-null    int64  \n",
            " 4   chol      303 non-null    int64  \n",
            " 5   fbs       303 non-null    int64  \n",
            " 6   restecg   303 non-null    int64  \n",
            " 7   thalach   303 non-null    int64  \n",
            " 8   exang     303 non-null    int64  \n",
            " 9   oldpeak   303 non-null    float64\n",
            " 10  slope     303 non-null    int64  \n",
            " 11  ca        303 non-null    int64  \n",
            " 12  thal      303 non-null    int64  \n",
            " 13  target    303 non-null    int64  \n",
            "dtypes: float64(1), int64(13)\n",
            "memory usage: 33.3 KB\n"
          ]
        }
      ]
    },
    {
      "cell_type": "markdown",
      "metadata": {
        "id": "a6D32DgAejv5"
      },
      "source": [
        "The inter-dependency b/w two categorical variable, extension of normal distribtion-> taking the square of any point of normal distribution gives chi-square distribution -> increase in degree of freedom increase in curveness -> Chi square test\n",
        "\n",
        "min. reqd. of variables/properties through which we analyze other variable, correlation -> degree of freedom\n",
        "\n",
        "contigancy table -> x:y=1:15 (rato..frequency) (for categorical data) -> to make a  relation or find frequency b/w data\n",
        "\n",
        "bionomial distribution -> summation(observe - expected)^2 / (expected) -> expected value is generated from contigany table through mean usually."
      ]
    },
    {
      "cell_type": "markdown",
      "metadata": {
        "id": "zo3tmygaqWVU"
      },
      "source": [
        "we can calculate 3rd var. from prevous two variables - degree of freedom.\n",
        "\n",
        "![Chi-Square+Table.jpg](data:image/jpeg;base64,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)\n"
      ]
    },
    {
      "cell_type": "code",
      "metadata": {
        "colab": {
          "base_uri": "https://localhost:8080/"
        },
        "id": "7RZVsszPipEJ",
        "outputId": "e6c6877c-7247-48cb-aa5d-43b14efd04ff"
      },
      "source": [
        "from sklearn.ensemble import RandomForestClassifier\n",
        "from sklearn.model_selection import train_test_split\n",
        "\n",
        "np.random.seed(42)\n",
        "\n",
        "X = heart_disease.drop(\"target\", axis=1)\n",
        "y = heart_disease[\"target\"]\n",
        "\n",
        "X_train, X_test, y_train, y_test = train_test_split(X, y, test_size=0.3)\n",
        "\n",
        "print(\"Size of training set:\", X_train.shape)\n",
        "print(\"Size of training set:\", X_test.shape)\n",
        "\n",
        "clf = RandomForestClassifier()\n",
        "\n",
        "clf.fit(X_train, y_train)"
      ],
      "execution_count": 7,
      "outputs": [
        {
          "output_type": "stream",
          "name": "stdout",
          "text": [
            "Size of training set: (212, 13)\n",
            "Size of training set: (91, 13)\n"
          ]
        },
        {
          "output_type": "execute_result",
          "data": {
            "text/plain": [
              "RandomForestClassifier(bootstrap=True, ccp_alpha=0.0, class_weight=None,\n",
              "                       criterion='gini', max_depth=None, max_features='auto',\n",
              "                       max_leaf_nodes=None, max_samples=None,\n",
              "                       min_impurity_decrease=0.0, min_impurity_split=None,\n",
              "                       min_samples_leaf=1, min_samples_split=2,\n",
              "                       min_weight_fraction_leaf=0.0, n_estimators=100,\n",
              "                       n_jobs=None, oob_score=False, random_state=None,\n",
              "                       verbose=0, warm_start=False)"
            ]
          },
          "metadata": {},
          "execution_count": 7
        }
      ]
    },
    {
      "cell_type": "code",
      "metadata": {
        "colab": {
          "base_uri": "https://localhost:8080/"
        },
        "id": "IHIX0NivjSLK",
        "outputId": "7e81bd98-57e5-4e45-d5f0-03e076886639"
      },
      "source": [
        "clf.score(X_train, y_train)"
      ],
      "execution_count": 8,
      "outputs": [
        {
          "output_type": "execute_result",
          "data": {
            "text/plain": [
              "1.0"
            ]
          },
          "metadata": {},
          "execution_count": 8
        }
      ]
    },
    {
      "cell_type": "code",
      "metadata": {
        "colab": {
          "base_uri": "https://localhost:8080/"
        },
        "id": "ez9D2A8GkIQk",
        "outputId": "c9cd87a8-b26e-446c-e28f-99fcaed70ca8"
      },
      "source": [
        "clf.score(X_test, y_test)\n",
        "# Return the mean accuracy on the given test data and labels"
      ],
      "execution_count": 9,
      "outputs": [
        {
          "output_type": "execute_result",
          "data": {
            "text/plain": [
              "0.8241758241758241"
            ]
          },
          "metadata": {},
          "execution_count": 9
        }
      ]
    },
    {
      "cell_type": "code",
      "metadata": {
        "colab": {
          "base_uri": "https://localhost:8080/"
        },
        "id": "ZtieQMuRkga2",
        "outputId": "eb91a5b1-7bf9-47e0-f7f2-b4c0b8f58b5b"
      },
      "source": [
        "from sklearn.datasets import load_boston\n",
        "boston = load_boston()\n",
        "boston.keys()"
      ],
      "execution_count": 10,
      "outputs": [
        {
          "output_type": "execute_result",
          "data": {
            "text/plain": [
              "dict_keys(['data', 'target', 'feature_names', 'DESCR', 'filename'])"
            ]
          },
          "metadata": {},
          "execution_count": 10
        }
      ]
    },
    {
      "cell_type": "code",
      "metadata": {
        "colab": {
          "base_uri": "https://localhost:8080/"
        },
        "id": "jLionK9ikxe9",
        "outputId": "e07fe628-a2f9-49ac-ed4c-029b67cc9f33"
      },
      "source": [
        "print(boston['DESCR'])"
      ],
      "execution_count": 11,
      "outputs": [
        {
          "output_type": "stream",
          "name": "stdout",
          "text": [
            ".. _boston_dataset:\n",
            "\n",
            "Boston house prices dataset\n",
            "---------------------------\n",
            "\n",
            "**Data Set Characteristics:**  \n",
            "\n",
            "    :Number of Instances: 506 \n",
            "\n",
            "    :Number of Attributes: 13 numeric/categorical predictive. Median Value (attribute 14) is usually the target.\n",
            "\n",
            "    :Attribute Information (in order):\n",
            "        - CRIM     per capita crime rate by town\n",
            "        - ZN       proportion of residential land zoned for lots over 25,000 sq.ft.\n",
            "        - INDUS    proportion of non-retail business acres per town\n",
            "        - CHAS     Charles River dummy variable (= 1 if tract bounds river; 0 otherwise)\n",
            "        - NOX      nitric oxides concentration (parts per 10 million)\n",
            "        - RM       average number of rooms per dwelling\n",
            "        - AGE      proportion of owner-occupied units built prior to 1940\n",
            "        - DIS      weighted distances to five Boston employment centres\n",
            "        - RAD      index of accessibility to radial highways\n",
            "        - TAX      full-value property-tax rate per $10,000\n",
            "        - PTRATIO  pupil-teacher ratio by town\n",
            "        - B        1000(Bk - 0.63)^2 where Bk is the proportion of blacks by town\n",
            "        - LSTAT    % lower status of the population\n",
            "        - MEDV     Median value of owner-occupied homes in $1000's\n",
            "\n",
            "    :Missing Attribute Values: None\n",
            "\n",
            "    :Creator: Harrison, D. and Rubinfeld, D.L.\n",
            "\n",
            "This is a copy of UCI ML housing dataset.\n",
            "https://archive.ics.uci.edu/ml/machine-learning-databases/housing/\n",
            "\n",
            "\n",
            "This dataset was taken from the StatLib library which is maintained at Carnegie Mellon University.\n",
            "\n",
            "The Boston house-price data of Harrison, D. and Rubinfeld, D.L. 'Hedonic\n",
            "prices and the demand for clean air', J. Environ. Economics & Management,\n",
            "vol.5, 81-102, 1978.   Used in Belsley, Kuh & Welsch, 'Regression diagnostics\n",
            "...', Wiley, 1980.   N.B. Various transformations are used in the table on\n",
            "pages 244-261 of the latter.\n",
            "\n",
            "The Boston house-price data has been used in many machine learning papers that address regression\n",
            "problems.   \n",
            "     \n",
            ".. topic:: References\n",
            "\n",
            "   - Belsley, Kuh & Welsch, 'Regression diagnostics: Identifying Influential Data and Sources of Collinearity', Wiley, 1980. 244-261.\n",
            "   - Quinlan,R. (1993). Combining Instance-Based and Model-Based Learning. In Proceedings on the Tenth International Conference of Machine Learning, 236-243, University of Massachusetts, Amherst. Morgan Kaufmann.\n",
            "\n"
          ]
        }
      ]
    },
    {
      "cell_type": "markdown",
      "metadata": {
        "id": "D3a1yGd1lExS"
      },
      "source": [
        "in terms of regression"
      ]
    },
    {
      "cell_type": "code",
      "metadata": {
        "colab": {
          "base_uri": "https://localhost:8080/",
          "height": 204
        },
        "id": "fsgYWyazliVn",
        "outputId": "22e9ec86-d6cc-4b5b-ac5f-e4b4821f794c"
      },
      "source": [
        "boston_df = pd.DataFrame(boston[\"data\"], columns=boston[\"feature_names\"])\n",
        "boston_df[\"target\"] = pd.Series(boston[\"target\"])\n",
        "boston_df.head()"
      ],
      "execution_count": 12,
      "outputs": [
        {
          "output_type": "execute_result",
          "data": {
            "text/html": [
              "<div>\n",
              "<style scoped>\n",
              "    .dataframe tbody tr th:only-of-type {\n",
              "        vertical-align: middle;\n",
              "    }\n",
              "\n",
              "    .dataframe tbody tr th {\n",
              "        vertical-align: top;\n",
              "    }\n",
              "\n",
              "    .dataframe thead th {\n",
              "        text-align: right;\n",
              "    }\n",
              "</style>\n",
              "<table border=\"1\" class=\"dataframe\">\n",
              "  <thead>\n",
              "    <tr style=\"text-align: right;\">\n",
              "      <th></th>\n",
              "      <th>CRIM</th>\n",
              "      <th>ZN</th>\n",
              "      <th>INDUS</th>\n",
              "      <th>CHAS</th>\n",
              "      <th>NOX</th>\n",
              "      <th>RM</th>\n",
              "      <th>AGE</th>\n",
              "      <th>DIS</th>\n",
              "      <th>RAD</th>\n",
              "      <th>TAX</th>\n",
              "      <th>PTRATIO</th>\n",
              "      <th>B</th>\n",
              "      <th>LSTAT</th>\n",
              "      <th>target</th>\n",
              "    </tr>\n",
              "  </thead>\n",
              "  <tbody>\n",
              "    <tr>\n",
              "      <th>0</th>\n",
              "      <td>0.00632</td>\n",
              "      <td>18.0</td>\n",
              "      <td>2.31</td>\n",
              "      <td>0.0</td>\n",
              "      <td>0.538</td>\n",
              "      <td>6.575</td>\n",
              "      <td>65.2</td>\n",
              "      <td>4.0900</td>\n",
              "      <td>1.0</td>\n",
              "      <td>296.0</td>\n",
              "      <td>15.3</td>\n",
              "      <td>396.90</td>\n",
              "      <td>4.98</td>\n",
              "      <td>24.0</td>\n",
              "    </tr>\n",
              "    <tr>\n",
              "      <th>1</th>\n",
              "      <td>0.02731</td>\n",
              "      <td>0.0</td>\n",
              "      <td>7.07</td>\n",
              "      <td>0.0</td>\n",
              "      <td>0.469</td>\n",
              "      <td>6.421</td>\n",
              "      <td>78.9</td>\n",
              "      <td>4.9671</td>\n",
              "      <td>2.0</td>\n",
              "      <td>242.0</td>\n",
              "      <td>17.8</td>\n",
              "      <td>396.90</td>\n",
              "      <td>9.14</td>\n",
              "      <td>21.6</td>\n",
              "    </tr>\n",
              "    <tr>\n",
              "      <th>2</th>\n",
              "      <td>0.02729</td>\n",
              "      <td>0.0</td>\n",
              "      <td>7.07</td>\n",
              "      <td>0.0</td>\n",
              "      <td>0.469</td>\n",
              "      <td>7.185</td>\n",
              "      <td>61.1</td>\n",
              "      <td>4.9671</td>\n",
              "      <td>2.0</td>\n",
              "      <td>242.0</td>\n",
              "      <td>17.8</td>\n",
              "      <td>392.83</td>\n",
              "      <td>4.03</td>\n",
              "      <td>34.7</td>\n",
              "    </tr>\n",
              "    <tr>\n",
              "      <th>3</th>\n",
              "      <td>0.03237</td>\n",
              "      <td>0.0</td>\n",
              "      <td>2.18</td>\n",
              "      <td>0.0</td>\n",
              "      <td>0.458</td>\n",
              "      <td>6.998</td>\n",
              "      <td>45.8</td>\n",
              "      <td>6.0622</td>\n",
              "      <td>3.0</td>\n",
              "      <td>222.0</td>\n",
              "      <td>18.7</td>\n",
              "      <td>394.63</td>\n",
              "      <td>2.94</td>\n",
              "      <td>33.4</td>\n",
              "    </tr>\n",
              "    <tr>\n",
              "      <th>4</th>\n",
              "      <td>0.06905</td>\n",
              "      <td>0.0</td>\n",
              "      <td>2.18</td>\n",
              "      <td>0.0</td>\n",
              "      <td>0.458</td>\n",
              "      <td>7.147</td>\n",
              "      <td>54.2</td>\n",
              "      <td>6.0622</td>\n",
              "      <td>3.0</td>\n",
              "      <td>222.0</td>\n",
              "      <td>18.7</td>\n",
              "      <td>396.90</td>\n",
              "      <td>5.33</td>\n",
              "      <td>36.2</td>\n",
              "    </tr>\n",
              "  </tbody>\n",
              "</table>\n",
              "</div>"
            ],
            "text/plain": [
              "      CRIM    ZN  INDUS  CHAS    NOX  ...    TAX  PTRATIO       B  LSTAT  target\n",
              "0  0.00632  18.0   2.31   0.0  0.538  ...  296.0     15.3  396.90   4.98    24.0\n",
              "1  0.02731   0.0   7.07   0.0  0.469  ...  242.0     17.8  396.90   9.14    21.6\n",
              "2  0.02729   0.0   7.07   0.0  0.469  ...  242.0     17.8  392.83   4.03    34.7\n",
              "3  0.03237   0.0   2.18   0.0  0.458  ...  222.0     18.7  394.63   2.94    33.4\n",
              "4  0.06905   0.0   2.18   0.0  0.458  ...  222.0     18.7  396.90   5.33    36.2\n",
              "\n",
              "[5 rows x 14 columns]"
            ]
          },
          "metadata": {},
          "execution_count": 12
        }
      ]
    },
    {
      "cell_type": "code",
      "metadata": {
        "id": "__I2vJ-Hk4oG"
      },
      "source": [
        "from sklearn.ensemble import RandomForestRegressor\n",
        "\n",
        "np.random.seed(42)\n",
        "\n",
        "X = boston_df.drop(\"target\", axis=1)\n",
        "y = boston_df[\"target\"]\n",
        "\n",
        "X_train, X_test, y_train, y_test = train_test_split(X, y, test_size=0.3)\n",
        "\n",
        "model = RandomForestRegressor(n_estimators=100).fit(X_train, y_train)"
      ],
      "execution_count": 13,
      "outputs": []
    },
    {
      "cell_type": "code",
      "metadata": {
        "colab": {
          "base_uri": "https://localhost:8080/"
        },
        "id": "ZAxuegZdlUkr",
        "outputId": "7a1d6e86-3a01-408a-dab9-07c5819f204d"
      },
      "source": [
        "model.score(X_test, y_test)"
      ],
      "execution_count": 14,
      "outputs": [
        {
          "output_type": "execute_result",
          "data": {
            "text/plain": [
              "0.8797770038888664"
            ]
          },
          "metadata": {},
          "execution_count": 14
        }
      ]
    },
    {
      "cell_type": "code",
      "metadata": {
        "colab": {
          "base_uri": "https://localhost:8080/"
        },
        "id": "JEiOWQwkmEpF",
        "outputId": "b0db883c-1af4-415c-a9a1-0ea034150256"
      },
      "source": [
        "model.score(X_train, y_train)\n",
        "# Return the coefficient of determination R^2 of the prediction."
      ],
      "execution_count": 15,
      "outputs": [
        {
          "output_type": "execute_result",
          "data": {
            "text/plain": [
              "0.9784055836231608"
            ]
          },
          "metadata": {},
          "execution_count": 15
        }
      ]
    },
    {
      "cell_type": "markdown",
      "metadata": {
        "id": "1le00HRJmZd3"
      },
      "source": [
        "Evaluating a model using the scoring parameter"
      ]
    },
    {
      "cell_type": "code",
      "metadata": {
        "colab": {
          "base_uri": "https://localhost:8080/"
        },
        "id": "NUyH6hZomHlN",
        "outputId": "9b1a2bb6-30b8-43b3-f5fe-8b9b3348c520"
      },
      "source": [
        "from sklearn.model_selection import cross_val_score\n",
        "\n",
        "from sklearn.ensemble import RandomForestClassifier\n",
        "\n",
        "np.random.seed(42)\n",
        "\n",
        "X = heart_disease.drop(\"target\", axis=1)\n",
        "y = heart_disease[\"target\"]\n",
        "\n",
        "X_train, X_test, y_train, y_test = train_test_split(X, y, test_size=0.2)\n",
        "\n",
        "clf = RandomForestClassifier(n_estimators=100)\n",
        "\n",
        "clf.fit(X_train, y_train)"
      ],
      "execution_count": 16,
      "outputs": [
        {
          "output_type": "execute_result",
          "data": {
            "text/plain": [
              "RandomForestClassifier(bootstrap=True, ccp_alpha=0.0, class_weight=None,\n",
              "                       criterion='gini', max_depth=None, max_features='auto',\n",
              "                       max_leaf_nodes=None, max_samples=None,\n",
              "                       min_impurity_decrease=0.0, min_impurity_split=None,\n",
              "                       min_samples_leaf=1, min_samples_split=2,\n",
              "                       min_weight_fraction_leaf=0.0, n_estimators=100,\n",
              "                       n_jobs=None, oob_score=False, random_state=None,\n",
              "                       verbose=0, warm_start=False)"
            ]
          },
          "metadata": {},
          "execution_count": 16
        }
      ]
    },
    {
      "cell_type": "code",
      "metadata": {
        "colab": {
          "base_uri": "https://localhost:8080/"
        },
        "id": "ajaXDXDCoQXp",
        "outputId": "f3f4eb7b-9a5f-41d5-c90c-2752559fb6aa"
      },
      "source": [
        "cross_val_score(clf, X, y, cv=5)"
      ],
      "execution_count": 17,
      "outputs": [
        {
          "output_type": "execute_result",
          "data": {
            "text/plain": [
              "array([0.81967213, 0.86885246, 0.81967213, 0.78333333, 0.76666667])"
            ]
          },
          "metadata": {},
          "execution_count": 17
        }
      ]
    },
    {
      "cell_type": "markdown",
      "metadata": {
        "id": "lGWfkDYfpMJ4"
      },
      "source": [
        "In five fold cross validation, 5 diffeent versions of data is trained variously 5 each time "
      ]
    },
    {
      "cell_type": "markdown",
      "metadata": {
        "id": "IRFJ716c0fP8"
      },
      "source": [
        "Classification model evaluation metrics\n",
        "1. Accuracy\n",
        "2. Area under ROC curve\n",
        "3. Confusion matrix\n",
        "4. Classification report"
      ]
    },
    {
      "cell_type": "code",
      "metadata": {
        "id": "ecNWB_kvoXLX",
        "colab": {
          "base_uri": "https://localhost:8080/"
        },
        "outputId": "36639038-2c64-4844-a0a1-a3316346c001"
      },
      "source": [
        "# 1\n",
        "np.mean(cross_val_score(clf, X, y, cv=5))"
      ],
      "execution_count": 18,
      "outputs": [
        {
          "output_type": "execute_result",
          "data": {
            "text/plain": [
              "0.8183606557377049"
            ]
          },
          "metadata": {},
          "execution_count": 18
        }
      ]
    },
    {
      "cell_type": "code",
      "metadata": {
        "colab": {
          "base_uri": "https://localhost:8080/"
        },
        "id": "KWy12cyb1S9H",
        "outputId": "6f776512-13aa-4853-8a94-305b24f64b10"
      },
      "source": [
        "print(f\"Heart Disease Classifier Cross-Validated Accuracy: {np.mean(cross_val_score(clf, X, y, cv=5)) *100:.2f}%\")"
      ],
      "execution_count": 19,
      "outputs": [
        {
          "output_type": "stream",
          "name": "stdout",
          "text": [
            "Heart Disease Classifier Cross-Validated Accuracy: 81.83%\n"
          ]
        }
      ]
    },
    {
      "cell_type": "markdown",
      "metadata": {
        "id": "1kvpoQT42sP9"
      },
      "source": [
        "**Area under the receiver operating characteristic curve (AUC/ROC)**\n",
        "\n",
        "ROC curves are a comparison of a model's true postive rate (tpr) versus a models false positive rate (fpr).\n",
        "\n",
        "\n",
        "1. True positive = model predicts 1 when truth is 1\n",
        "2. False positive = model predicts 1 when truth is 0\n",
        "3. True negative = model predicts 0 when truth is 0\n",
        "4. False negative = model predicts 0 when truth is 1\n"
      ]
    },
    {
      "cell_type": "code",
      "metadata": {
        "colab": {
          "base_uri": "https://localhost:8080/"
        },
        "id": "NFd84UV31WYa",
        "outputId": "64df7505-892f-4770-ab94-475c60637329"
      },
      "source": [
        "from sklearn.metrics import roc_curve\n",
        "\n",
        "probs = clf.predict_proba(X_test)\n",
        "probs[:10], len(probs)"
      ],
      "execution_count": 20,
      "outputs": [
        {
          "output_type": "execute_result",
          "data": {
            "text/plain": [
              "(array([[0.89, 0.11],\n",
              "        [0.49, 0.51],\n",
              "        [0.43, 0.57],\n",
              "        [0.84, 0.16],\n",
              "        [0.18, 0.82],\n",
              "        [0.14, 0.86],\n",
              "        [0.36, 0.64],\n",
              "        [0.95, 0.05],\n",
              "        [0.99, 0.01],\n",
              "        [0.47, 0.53]]), 61)"
            ]
          },
          "metadata": {},
          "execution_count": 20
        }
      ]
    },
    {
      "cell_type": "code",
      "metadata": {
        "id": "6OyTSTLx3S-D"
      },
      "source": [
        "# prob [of 0, of 1]"
      ],
      "execution_count": 21,
      "outputs": []
    },
    {
      "cell_type": "code",
      "metadata": {
        "colab": {
          "base_uri": "https://localhost:8080/"
        },
        "id": "Pa1Q6ty03tDL",
        "outputId": "8ea21669-d4e6-4085-c503-84a3a2a3ea12"
      },
      "source": [
        "probs_pos = probs[:, 1]\n",
        "probs_pos[:10]"
      ],
      "execution_count": 22,
      "outputs": [
        {
          "output_type": "execute_result",
          "data": {
            "text/plain": [
              "array([0.11, 0.51, 0.57, 0.16, 0.82, 0.86, 0.64, 0.05, 0.01, 0.53])"
            ]
          },
          "metadata": {},
          "execution_count": 22
        }
      ]
    },
    {
      "cell_type": "code",
      "metadata": {
        "id": "hD24GPGJ4TSg"
      },
      "source": [
        "fpr, tpr, threshold = roc_curve(y_test, probs_pos)"
      ],
      "execution_count": 23,
      "outputs": []
    },
    {
      "cell_type": "code",
      "metadata": {
        "colab": {
          "base_uri": "https://localhost:8080/"
        },
        "id": "-wmGK82Y4hmw",
        "outputId": "33a90c16-ba78-4558-9fdf-0a69c26f57d8"
      },
      "source": [
        "fpr"
      ],
      "execution_count": 24,
      "outputs": [
        {
          "output_type": "execute_result",
          "data": {
            "text/plain": [
              "array([0.        , 0.        , 0.        , 0.        , 0.        ,\n",
              "       0.03448276, 0.03448276, 0.03448276, 0.03448276, 0.06896552,\n",
              "       0.06896552, 0.10344828, 0.13793103, 0.13793103, 0.17241379,\n",
              "       0.17241379, 0.27586207, 0.4137931 , 0.48275862, 0.55172414,\n",
              "       0.65517241, 0.72413793, 0.72413793, 0.82758621, 1.        ])"
            ]
          },
          "metadata": {},
          "execution_count": 24
        }
      ]
    },
    {
      "cell_type": "code",
      "metadata": {
        "colab": {
          "base_uri": "https://localhost:8080/"
        },
        "id": "nO3KmeDW4igc",
        "outputId": "097108c5-1af8-4963-bfa0-8017799e6e92"
      },
      "source": [
        "tpr"
      ],
      "execution_count": 25,
      "outputs": [
        {
          "output_type": "execute_result",
          "data": {
            "text/plain": [
              "array([0.     , 0.03125, 0.09375, 0.375  , 0.4375 , 0.4375 , 0.46875,\n",
              "       0.59375, 0.6875 , 0.6875 , 0.71875, 0.75   , 0.75   , 0.875  ,\n",
              "       0.875  , 0.96875, 0.96875, 0.96875, 0.96875, 0.96875, 0.96875,\n",
              "       0.96875, 1.     , 1.     , 1.     ])"
            ]
          },
          "metadata": {},
          "execution_count": 25
        }
      ]
    },
    {
      "cell_type": "code",
      "metadata": {
        "colab": {
          "base_uri": "https://localhost:8080/"
        },
        "id": "bKcAimfR4mb_",
        "outputId": "eaf08498-6d17-4663-b294-65558f850de8"
      },
      "source": [
        "threshold"
      ],
      "execution_count": 26,
      "outputs": [
        {
          "output_type": "execute_result",
          "data": {
            "text/plain": [
              "array([2.  , 1.  , 0.99, 0.83, 0.82, 0.8 , 0.78, 0.74, 0.67, 0.66, 0.64,\n",
              "       0.62, 0.61, 0.53, 0.51, 0.3 , 0.2 , 0.16, 0.14, 0.13, 0.11, 0.07,\n",
              "       0.06, 0.05, 0.  ])"
            ]
          },
          "metadata": {},
          "execution_count": 26
        }
      ]
    },
    {
      "cell_type": "code",
      "metadata": {
        "colab": {
          "base_uri": "https://localhost:8080/",
          "height": 295
        },
        "id": "w4UfSdjn4oEV",
        "outputId": "35d1731e-9eb4-40ef-da5c-2227a60ec1ad"
      },
      "source": [
        "def plot_roc_curve(fpr, tpr):\n",
        "    \"\"\"\n",
        "    Plots a ROC curve given the false positive rate (fpr)\n",
        "    and true positive rate (tpr) of a model.\n",
        "    \"\"\"\n",
        "    plt.plot(fpr, tpr, color=\"blue\", label=\"ROC\")\n",
        "    # Plot line with no predictive power (baseline)\n",
        "    plt.plot([0, 1], [0, 1], color=\"orange\", linestyle=\"--\", label=\"Guessing\")\n",
        " \n",
        "    plt.xlabel(\"False positive rate (fpr)\")\n",
        "    plt.ylabel(\"True positive rate (tpr)\")\n",
        "    plt.title(\"Receiver Operating Characteristic (ROC) Curve\")\n",
        "    plt.legend()\n",
        "    plt.show()\n",
        "\n",
        "plot_roc_curve(fpr, tpr)"
      ],
      "execution_count": 27,
      "outputs": [
        {
          "output_type": "display_data",
          "data": {
            "image/png": "[encoded data removed]",
            "text/plain": [
              "<Figure size 432x288 with 1 Axes>"
            ]
          },
          "metadata": {
            "needs_background": "light"
          }
        }
      ]
    },
    {
      "cell_type": "code",
      "metadata": {
        "colab": {
          "base_uri": "https://localhost:8080/"
        },
        "id": "2TgODOJU4-Ry",
        "outputId": "80923a30-b716-4866-a81c-12a7dd39cc29"
      },
      "source": [
        "from sklearn.metrics import roc_auc_score\n",
        "\n",
        "roc_auc_score(y_test, probs_pos)"
      ],
      "execution_count": 28,
      "outputs": [
        {
          "output_type": "execute_result",
          "data": {
            "text/plain": [
              "0.9304956896551724"
            ]
          },
          "metadata": {},
          "execution_count": 28
        }
      ]
    },
    {
      "cell_type": "code",
      "metadata": {
        "colab": {
          "base_uri": "https://localhost:8080/",
          "height": 312
        },
        "id": "20echtmm6k_h",
        "outputId": "79648a7f-33b2-41f2-89c0-19a2f444c83a"
      },
      "source": [
        "# Plot perfect ROC curve and AUC score\n",
        "\n",
        "fpr, tpr, thresholds = roc_curve(y_test, y_test)\n",
        "plot_roc_curve(fpr, tpr)\n",
        "\n",
        "print(\"Perfect AUC Score: \" , roc_auc_score(y_test, y_test))"
      ],
      "execution_count": 29,
      "outputs": [
        {
          "output_type": "display_data",
          "data": {
            "image/png": "[encoded data removed]",
            "text/plain": [
              "<Figure size 432x288 with 1 Axes>"
            ]
          },
          "metadata": {
            "needs_background": "light"
          }
        },
        {
          "output_type": "stream",
          "name": "stdout",
          "text": [
            "Perfect AUC Score:  1.0\n"
          ]
        }
      ]
    },
    {
      "cell_type": "markdown",
      "metadata": {
        "id": "eaZAQ-y37sd_"
      },
      "source": [
        "\n",
        "**Confusion Matrix**\n",
        "\n",
        "A confusion matrix is a quick way to compare the labels a model predicts and the actual labels it was supposed to predict."
      ]
    },
    {
      "cell_type": "code",
      "metadata": {
        "colab": {
          "base_uri": "https://localhost:8080/"
        },
        "id": "ISnSzi2V6v3r",
        "outputId": "49570872-b36a-4a2d-c545-31cf355156a6"
      },
      "source": [
        "from sklearn.metrics import confusion_matrix\n",
        "\n",
        "pred = clf.predict(X_test)\n",
        "\n",
        "print(confusion_matrix(y_test, pred))"
      ],
      "execution_count": 30,
      "outputs": [
        {
          "output_type": "stream",
          "name": "stdout",
          "text": [
            "[[24  5]\n",
            " [ 4 28]]\n"
          ]
        }
      ]
    },
    {
      "cell_type": "code",
      "metadata": {
        "colab": {
          "base_uri": "https://localhost:8080/",
          "height": 142
        },
        "id": "zo_yMHPt8JxT",
        "outputId": "02ea8df5-eef1-431f-b099-cd00e075a469"
      },
      "source": [
        "pd.crosstab(y_test, pred,rownames=[\"Actual Labels\"], colnames=[\"Predicted Labels\"])"
      ],
      "execution_count": 31,
      "outputs": [
        {
          "output_type": "execute_result",
          "data": {
            "text/html": [
              "<div>\n",
              "<style scoped>\n",
              "    .dataframe tbody tr th:only-of-type {\n",
              "        vertical-align: middle;\n",
              "    }\n",
              "\n",
              "    .dataframe tbody tr th {\n",
              "        vertical-align: top;\n",
              "    }\n",
              "\n",
              "    .dataframe thead th {\n",
              "        text-align: right;\n",
              "    }\n",
              "</style>\n",
              "<table border=\"1\" class=\"dataframe\">\n",
              "  <thead>\n",
              "    <tr style=\"text-align: right;\">\n",
              "      <th>Predicted Labels</th>\n",
              "      <th>0</th>\n",
              "      <th>1</th>\n",
              "    </tr>\n",
              "    <tr>\n",
              "      <th>Actual Labels</th>\n",
              "      <th></th>\n",
              "      <th></th>\n",
              "    </tr>\n",
              "  </thead>\n",
              "  <tbody>\n",
              "    <tr>\n",
              "      <th>0</th>\n",
              "      <td>24</td>\n",
              "      <td>5</td>\n",
              "    </tr>\n",
              "    <tr>\n",
              "      <th>1</th>\n",
              "      <td>4</td>\n",
              "      <td>28</td>\n",
              "    </tr>\n",
              "  </tbody>\n",
              "</table>\n",
              "</div>"
            ],
            "text/plain": [
              "Predicted Labels   0   1\n",
              "Actual Labels           \n",
              "0                 24   5\n",
              "1                  4  28"
            ]
          },
          "metadata": {},
          "execution_count": 31
        }
      ]
    },
    {
      "cell_type": "code",
      "metadata": {
        "colab": {
          "base_uri": "https://localhost:8080/"
        },
        "id": "MCm7nwbX8aG_",
        "outputId": "f3c0569b-893a-49e7-8e89-c1e7aab6feb1"
      },
      "source": [
        "print(24+28+5+4)\n",
        "print(len(pred))\n",
        "print(len(X_test))"
      ],
      "execution_count": 32,
      "outputs": [
        {
          "output_type": "stream",
          "name": "stdout",
          "text": [
            "61\n",
            "61\n",
            "61\n"
          ]
        }
      ]
    },
    {
      "cell_type": "code",
      "metadata": {
        "colab": {
          "base_uri": "https://localhost:8080/",
          "height": 293
        },
        "id": "HQFNqQNK86QE",
        "outputId": "9c6ee250-7589-42a8-ccaa-05883c48ba6e"
      },
      "source": [
        "sns.set(font_scale=1.5)\n",
        "conf_matrix = confusion_matrix(y_test, pred)\n",
        "sns.heatmap(conf_matrix)"
      ],
      "execution_count": 33,
      "outputs": [
        {
          "output_type": "execute_result",
          "data": {
            "text/plain": [
              "<matplotlib.axes._subplots.AxesSubplot at 0x7f6545041f50>"
            ]
          },
          "metadata": {},
          "execution_count": 33
        },
        {
          "output_type": "display_data",
          "data": {
            "image/png": "[encoded data removed]",
            "text/plain": [
              "<Figure size 432x288 with 2 Axes>"
            ]
          },
          "metadata": {}
        }
      ]
    },
    {
      "cell_type": "code",
      "metadata": {
        "colab": {
          "base_uri": "https://localhost:8080/",
          "height": 315
        },
        "id": "EFcJUKZ19zR7",
        "outputId": "f9871a61-4063-4199-de55-006863547740"
      },
      "source": [
        "from sklearn.metrics import plot_confusion_matrix\n",
        "\n",
        "plot_confusion_matrix(clf, X, y)"
      ],
      "execution_count": 34,
      "outputs": [
        {
          "output_type": "execute_result",
          "data": {
            "text/plain": [
              "<sklearn.metrics._plot.confusion_matrix.ConfusionMatrixDisplay at 0x7f654504cb50>"
            ]
          },
          "metadata": {},
          "execution_count": 34
        },
        {
          "output_type": "display_data",
          "data": {
            "image/png": "[encoded data removed]",
            "text/plain": [
              "<Figure size 432x288 with 2 Axes>"
            ]
          },
          "metadata": {}
        }
      ]
    },
    {
      "cell_type": "code",
      "metadata": {
        "colab": {
          "base_uri": "https://localhost:8080/"
        },
        "id": "g_JKjQuj-L5T",
        "outputId": "936a0fe2-0173-4401-85ab-f4237f60ceb6"
      },
      "source": [
        "from sklearn.metrics import classification_report\n",
        "\n",
        "print(classification_report(y_test, pred))"
      ],
      "execution_count": 35,
      "outputs": [
        {
          "output_type": "stream",
          "name": "stdout",
          "text": [
            "              precision    recall  f1-score   support\n",
            "\n",
            "           0       0.86      0.83      0.84        29\n",
            "           1       0.85      0.88      0.86        32\n",
            "\n",
            "    accuracy                           0.85        61\n",
            "   macro avg       0.85      0.85      0.85        61\n",
            "weighted avg       0.85      0.85      0.85        61\n",
            "\n"
          ]
        }
      ]
    },
    {
      "cell_type": "code",
      "metadata": {
        "colab": {
          "base_uri": "https://localhost:8080/",
          "height": 227
        },
        "id": "3Y-ordCj-lq4",
        "outputId": "a5b199cb-48d5-40ad-9bd4-2759e019c378"
      },
      "source": [
        "# Where precision and recall become valuable\n",
        "disease_true = np.zeros(10000)\n",
        "disease_true[0] = 1 # only one positive case\n",
        "\n",
        "disease_preds = np.zeros(10000) # model predicts every case as 0\n",
        "\n",
        "pd.DataFrame(classification_report(disease_true,\n",
        "                                   disease_preds,\n",
        "                                   output_dict=True))"
      ],
      "execution_count": 36,
      "outputs": [
        {
          "output_type": "stream",
          "name": "stderr",
          "text": [
            "/usr/local/lib/python3.7/dist-packages/sklearn/metrics/_classification.py:1272: UndefinedMetricWarning: Precision and F-score are ill-defined and being set to 0.0 in labels with no predicted samples. Use `zero_division` parameter to control this behavior.\n",
            "  _warn_prf(average, modifier, msg_start, len(result))\n"
          ]
        },
        {
          "output_type": "execute_result",
          "data": {
            "text/html": [
              "<div>\n",
              "<style scoped>\n",
              "    .dataframe tbody tr th:only-of-type {\n",
              "        vertical-align: middle;\n",
              "    }\n",
              "\n",
              "    .dataframe tbody tr th {\n",
              "        vertical-align: top;\n",
              "    }\n",
              "\n",
              "    .dataframe thead th {\n",
              "        text-align: right;\n",
              "    }\n",
              "</style>\n",
              "<table border=\"1\" class=\"dataframe\">\n",
              "  <thead>\n",
              "    <tr style=\"text-align: right;\">\n",
              "      <th></th>\n",
              "      <th>0.0</th>\n",
              "      <th>1.0</th>\n",
              "      <th>accuracy</th>\n",
              "      <th>macro avg</th>\n",
              "      <th>weighted avg</th>\n",
              "    </tr>\n",
              "  </thead>\n",
              "  <tbody>\n",
              "    <tr>\n",
              "      <th>precision</th>\n",
              "      <td>0.99990</td>\n",
              "      <td>0.0</td>\n",
              "      <td>0.9999</td>\n",
              "      <td>0.499950</td>\n",
              "      <td>0.99980</td>\n",
              "    </tr>\n",
              "    <tr>\n",
              "      <th>recall</th>\n",
              "      <td>1.00000</td>\n",
              "      <td>0.0</td>\n",
              "      <td>0.9999</td>\n",
              "      <td>0.500000</td>\n",
              "      <td>0.99990</td>\n",
              "    </tr>\n",
              "    <tr>\n",
              "      <th>f1-score</th>\n",
              "      <td>0.99995</td>\n",
              "      <td>0.0</td>\n",
              "      <td>0.9999</td>\n",
              "      <td>0.499975</td>\n",
              "      <td>0.99985</td>\n",
              "    </tr>\n",
              "    <tr>\n",
              "      <th>support</th>\n",
              "      <td>9999.00000</td>\n",
              "      <td>1.0</td>\n",
              "      <td>0.9999</td>\n",
              "      <td>10000.000000</td>\n",
              "      <td>10000.00000</td>\n",
              "    </tr>\n",
              "  </tbody>\n",
              "</table>\n",
              "</div>"
            ],
            "text/plain": [
              "                  0.0  1.0  accuracy     macro avg  weighted avg\n",
              "precision     0.99990  0.0    0.9999      0.499950       0.99980\n",
              "recall        1.00000  0.0    0.9999      0.500000       0.99990\n",
              "f1-score      0.99995  0.0    0.9999      0.499975       0.99985\n",
              "support    9999.00000  1.0    0.9999  10000.000000   10000.00000"
            ]
          },
          "metadata": {},
          "execution_count": 36
        }
      ]
    },
    {
      "cell_type": "markdown",
      "metadata": {
        "id": "WgVkc_DzEZLe"
      },
      "source": [
        "\n",
        "* **F1-score** is comb. of recall and precision\n",
        "*   If all classes are balanced( same no. of samples with 1 or 0 ) then  ->  **Accuracy**\n",
        "* When classes are not imbalanced -> **Precision** and **recall**\n",
        "* if false +ve are worse than false -ve -> **higher precision**\n",
        "* if false -ve are worse than false +ve -> **higher recall**\n",
        "   \n",
        "\n",
        "\n"
      ]
    },
    {
      "cell_type": "markdown",
      "metadata": {
        "id": "3k_1S8VLFsza"
      },
      "source": [
        "**Regression model evaluation metrics**\n",
        "\n",
        "* R^2 (pronounced r-squared) or coefficient of determination.\n",
        "* Mean absolute error (MAE)\n",
        "* Mean squared error (MSE)"
      ]
    },
    {
      "cell_type": "markdown",
      "metadata": {
        "id": "tk8xxJd6HfEo"
      },
      "source": [
        "*What R-squared does: Compares your models predictions to the mean of the targets. Values can range from negative infinity (a very poor model) to 1. For example, if all your model does is predict the mean of the targets, it's R^2 value would be 0. And if your model perfectly predicts a range of numbers it's R^2 value would be 1.*"
      ]
    },
    {
      "cell_type": "code",
      "metadata": {
        "colab": {
          "base_uri": "https://localhost:8080/"
        },
        "id": "TXp_IUb8EYB_",
        "outputId": "d2309d6c-a874-4bd1-c003-f47b80cd1269"
      },
      "source": [
        "from sklearn.ensemble import RandomForestRegressor\n",
        "\n",
        "np.random.seed(42)\n",
        "\n",
        "X = boston_df.drop(\"target\", axis=1)\n",
        "y = boston_df[\"target\"]\n",
        "\n",
        "X_train, X_test, y_train, y_test = train_test_split(X, y, test_size=0.2)\n",
        "\n",
        "model = RandomForestRegressor(n_estimators=100)\n",
        "model.fit(X_train, y_train)"
      ],
      "execution_count": 37,
      "outputs": [
        {
          "output_type": "execute_result",
          "data": {
            "text/plain": [
              "RandomForestRegressor(bootstrap=True, ccp_alpha=0.0, criterion='mse',\n",
              "                      max_depth=None, max_features='auto', max_leaf_nodes=None,\n",
              "                      max_samples=None, min_impurity_decrease=0.0,\n",
              "                      min_impurity_split=None, min_samples_leaf=1,\n",
              "                      min_samples_split=2, min_weight_fraction_leaf=0.0,\n",
              "                      n_estimators=100, n_jobs=None, oob_score=False,\n",
              "                      random_state=None, verbose=0, warm_start=False)"
            ]
          },
          "metadata": {},
          "execution_count": 37
        }
      ]
    },
    {
      "cell_type": "code",
      "metadata": {
        "colab": {
          "base_uri": "https://localhost:8080/"
        },
        "id": "vV_FhgvlEVrL",
        "outputId": "3fafb5c6-940c-4b5f-ac55-64af21b51e76"
      },
      "source": [
        "model.score(X_test, y_test)"
      ],
      "execution_count": 38,
      "outputs": [
        {
          "output_type": "execute_result",
          "data": {
            "text/plain": [
              "0.873969014117403"
            ]
          },
          "metadata": {},
          "execution_count": 38
        }
      ]
    },
    {
      "cell_type": "code",
      "metadata": {
        "id": "cFDV_P0yH3wn"
      },
      "source": [
        "from sklearn.metrics import r2_score\n",
        "\n",
        "y_test_mean = np.full(len(y_test), y_test.mean())"
      ],
      "execution_count": 39,
      "outputs": []
    },
    {
      "cell_type": "code",
      "metadata": {
        "colab": {
          "base_uri": "https://localhost:8080/"
        },
        "id": "EUQic90UIM_N",
        "outputId": "f854bd54-16a5-458a-eda9-dd194f3e5289"
      },
      "source": [
        "y_test_mean"
      ],
      "execution_count": 40,
      "outputs": [
        {
          "output_type": "execute_result",
          "data": {
            "text/plain": [
              "array([21.48823529, 21.48823529, 21.48823529, 21.48823529, 21.48823529,\n",
              "       21.48823529, 21.48823529, 21.48823529, 21.48823529, 21.48823529,\n",
              "       21.48823529, 21.48823529, 21.48823529, 21.48823529, 21.48823529,\n",
              "       21.48823529, 21.48823529, 21.48823529, 21.48823529, 21.48823529,\n",
              "       21.48823529, 21.48823529, 21.48823529, 21.48823529, 21.48823529,\n",
              "       21.48823529, 21.48823529, 21.48823529, 21.48823529, 21.48823529,\n",
              "       21.48823529, 21.48823529, 21.48823529, 21.48823529, 21.48823529,\n",
              "       21.48823529, 21.48823529, 21.48823529, 21.48823529, 21.48823529,\n",
              "       21.48823529, 21.48823529, 21.48823529, 21.48823529, 21.48823529,\n",
              "       21.48823529, 21.48823529, 21.48823529, 21.48823529, 21.48823529,\n",
              "       21.48823529, 21.48823529, 21.48823529, 21.48823529, 21.48823529,\n",
              "       21.48823529, 21.48823529, 21.48823529, 21.48823529, 21.48823529,\n",
              "       21.48823529, 21.48823529, 21.48823529, 21.48823529, 21.48823529,\n",
              "       21.48823529, 21.48823529, 21.48823529, 21.48823529, 21.48823529,\n",
              "       21.48823529, 21.48823529, 21.48823529, 21.48823529, 21.48823529,\n",
              "       21.48823529, 21.48823529, 21.48823529, 21.48823529, 21.48823529,\n",
              "       21.48823529, 21.48823529, 21.48823529, 21.48823529, 21.48823529,\n",
              "       21.48823529, 21.48823529, 21.48823529, 21.48823529, 21.48823529,\n",
              "       21.48823529, 21.48823529, 21.48823529, 21.48823529, 21.48823529,\n",
              "       21.48823529, 21.48823529, 21.48823529, 21.48823529, 21.48823529,\n",
              "       21.48823529, 21.48823529])"
            ]
          },
          "metadata": {},
          "execution_count": 40
        }
      ]
    },
    {
      "cell_type": "code",
      "metadata": {
        "colab": {
          "base_uri": "https://localhost:8080/"
        },
        "id": "Tac0Dcx0IPmy",
        "outputId": "d65aff23-1766-4f35-d712-565c4a673bb9"
      },
      "source": [
        "y_test.mean()"
      ],
      "execution_count": 41,
      "outputs": [
        {
          "output_type": "execute_result",
          "data": {
            "text/plain": [
              "21.488235294117654"
            ]
          },
          "metadata": {},
          "execution_count": 41
        }
      ]
    },
    {
      "cell_type": "code",
      "metadata": {
        "colab": {
          "base_uri": "https://localhost:8080/"
        },
        "id": "7H10DUWcIVwA",
        "outputId": "e541a7b4-8b53-4722-894f-78f75ef63385"
      },
      "source": [
        "r2_score(y_test, y_test_mean)"
      ],
      "execution_count": 42,
      "outputs": [
        {
          "output_type": "execute_result",
          "data": {
            "text/plain": [
              "2.220446049250313e-16"
            ]
          },
          "metadata": {},
          "execution_count": 42
        }
      ]
    },
    {
      "cell_type": "code",
      "metadata": {
        "colab": {
          "base_uri": "https://localhost:8080/"
        },
        "id": "UzDK5L1EIcXE",
        "outputId": "011a5944-fea7-4a27-9508-00fc8a9cf965"
      },
      "source": [
        "r2_score(y_test, y_test)\n"
      ],
      "execution_count": 43,
      "outputs": [
        {
          "output_type": "execute_result",
          "data": {
            "text/plain": [
              "1.0"
            ]
          },
          "metadata": {},
          "execution_count": 43
        }
      ]
    },
    {
      "cell_type": "markdown",
      "metadata": {
        "id": "hsV3e7BeJIft"
      },
      "source": [
        "MAE is the average of the aboslute differences between predictions and actual values. It gives you an idea of how wrong your models predictions are."
      ]
    },
    {
      "cell_type": "code",
      "metadata": {
        "colab": {
          "base_uri": "https://localhost:8080/"
        },
        "id": "mo1qT89EIhiV",
        "outputId": "da4d43c6-bbce-4ff0-b312-c44d275bc836"
      },
      "source": [
        "from sklearn.metrics import mean_absolute_error\n",
        "\n",
        "y_preds = model.predict(X_test)\n",
        "mae     = mean_absolute_error(y_test, y_preds)\n",
        "mae"
      ],
      "execution_count": 44,
      "outputs": [
        {
          "output_type": "execute_result",
          "data": {
            "text/plain": [
              "2.1226372549019623"
            ]
          },
          "metadata": {},
          "execution_count": 44
        }
      ]
    },
    {
      "cell_type": "code",
      "metadata": {
        "colab": {
          "base_uri": "https://localhost:8080/",
          "height": 419
        },
        "id": "wT3hZR7IJP2P",
        "outputId": "4d3d18f0-b9d3-4e34-da02-5ac504f358c4"
      },
      "source": [
        "df = pd.DataFrame(data={'actual values': y_test, 'predicted values': y_preds})\n",
        "\n",
        "df['diff'] = df['predicted values'] - df['actual values']\n",
        "df"
      ],
      "execution_count": 45,
      "outputs": [
        {
          "output_type": "execute_result",
          "data": {
            "text/html": [
              "<div>\n",
              "<style scoped>\n",
              "    .dataframe tbody tr th:only-of-type {\n",
              "        vertical-align: middle;\n",
              "    }\n",
              "\n",
              "    .dataframe tbody tr th {\n",
              "        vertical-align: top;\n",
              "    }\n",
              "\n",
              "    .dataframe thead th {\n",
              "        text-align: right;\n",
              "    }\n",
              "</style>\n",
              "<table border=\"1\" class=\"dataframe\">\n",
              "  <thead>\n",
              "    <tr style=\"text-align: right;\">\n",
              "      <th></th>\n",
              "      <th>actual values</th>\n",
              "      <th>predicted values</th>\n",
              "      <th>diff</th>\n",
              "    </tr>\n",
              "  </thead>\n",
              "  <tbody>\n",
              "    <tr>\n",
              "      <th>173</th>\n",
              "      <td>23.6</td>\n",
              "      <td>23.002</td>\n",
              "      <td>-0.598</td>\n",
              "    </tr>\n",
              "    <tr>\n",
              "      <th>274</th>\n",
              "      <td>32.4</td>\n",
              "      <td>30.826</td>\n",
              "      <td>-1.574</td>\n",
              "    </tr>\n",
              "    <tr>\n",
              "      <th>491</th>\n",
              "      <td>13.6</td>\n",
              "      <td>16.734</td>\n",
              "      <td>3.134</td>\n",
              "    </tr>\n",
              "    <tr>\n",
              "      <th>72</th>\n",
              "      <td>22.8</td>\n",
              "      <td>23.467</td>\n",
              "      <td>0.667</td>\n",
              "    </tr>\n",
              "    <tr>\n",
              "      <th>452</th>\n",
              "      <td>16.1</td>\n",
              "      <td>16.853</td>\n",
              "      <td>0.753</td>\n",
              "    </tr>\n",
              "    <tr>\n",
              "      <th>...</th>\n",
              "      <td>...</td>\n",
              "      <td>...</td>\n",
              "      <td>...</td>\n",
              "    </tr>\n",
              "    <tr>\n",
              "      <th>412</th>\n",
              "      <td>17.9</td>\n",
              "      <td>13.030</td>\n",
              "      <td>-4.870</td>\n",
              "    </tr>\n",
              "    <tr>\n",
              "      <th>436</th>\n",
              "      <td>9.6</td>\n",
              "      <td>12.490</td>\n",
              "      <td>2.890</td>\n",
              "    </tr>\n",
              "    <tr>\n",
              "      <th>411</th>\n",
              "      <td>17.2</td>\n",
              "      <td>13.406</td>\n",
              "      <td>-3.794</td>\n",
              "    </tr>\n",
              "    <tr>\n",
              "      <th>86</th>\n",
              "      <td>22.5</td>\n",
              "      <td>20.219</td>\n",
              "      <td>-2.281</td>\n",
              "    </tr>\n",
              "    <tr>\n",
              "      <th>75</th>\n",
              "      <td>21.4</td>\n",
              "      <td>23.898</td>\n",
              "      <td>2.498</td>\n",
              "    </tr>\n",
              "  </tbody>\n",
              "</table>\n",
              "<p>102 rows × 3 columns</p>\n",
              "</div>"
            ],
            "text/plain": [
              "     actual values  predicted values   diff\n",
              "173           23.6            23.002 -0.598\n",
              "274           32.4            30.826 -1.574\n",
              "491           13.6            16.734  3.134\n",
              "72            22.8            23.467  0.667\n",
              "452           16.1            16.853  0.753\n",
              "..             ...               ...    ...\n",
              "412           17.9            13.030 -4.870\n",
              "436            9.6            12.490  2.890\n",
              "411           17.2            13.406 -3.794\n",
              "86            22.5            20.219 -2.281\n",
              "75            21.4            23.898  2.498\n",
              "\n",
              "[102 rows x 3 columns]"
            ]
          },
          "metadata": {},
          "execution_count": 45
        }
      ]
    },
    {
      "cell_type": "code",
      "metadata": {
        "colab": {
          "base_uri": "https://localhost:8080/"
        },
        "id": "FSM3o-EjJwI7",
        "outputId": "4aca5bb5-d1e4-49cd-d165-8b7566c92e71"
      },
      "source": [
        "from sklearn.metrics import mean_squared_error\n",
        "\n",
        "y_preds = model.predict(X_test)\n",
        "mse = mean_squared_error(y_test, y_preds)\n",
        "mse"
      ],
      "execution_count": 46,
      "outputs": [
        {
          "output_type": "execute_result",
          "data": {
            "text/plain": [
              "9.242328990196082"
            ]
          },
          "metadata": {},
          "execution_count": 46
        }
      ]
    },
    {
      "cell_type": "markdown",
      "metadata": {
        "id": "qKuB-BT5jbDI"
      },
      "source": [
        "using the scoring parameter"
      ]
    },
    {
      "cell_type": "code",
      "metadata": {
        "id": "fxDqY17nblbu"
      },
      "source": [
        "# cv_acc = cross_val_score(clf, X, y, cv=5, scoring=\"accuracy\")\n",
        "\n",
        "# print(f'The cross-validated accuracy is: {np.mean(cv_acc)*100:.2f}%')\n",
        "\n",
        "# cv_precision = cross_val_score(clf, X, y, cv=5, scoring=\"precision\")\n",
        "# np.mean(cv_precision)\n",
        "        \n",
        "# cv_recall = cross_val_score(clf, X, y, cv=5, scoring=\"recall\")\n",
        "# np.mean(cv_recall) \n",
        "\n",
        "# cv_f1 = cross_val_score(clf, X, y, cv=5, scoring=\"f1\")\n",
        "# np.mean(cv_f1)"
      ],
      "execution_count": 47,
      "outputs": []
    },
    {
      "cell_type": "markdown",
      "metadata": {
        "id": "C4r150XNkvvV"
      },
      "source": [
        "Classification evaluation functions"
      ]
    },
    {
      "cell_type": "code",
      "metadata": {
        "colab": {
          "base_uri": "https://localhost:8080/"
        },
        "id": "CSI3OFR-kE4b",
        "outputId": "6bfbb04c-faa1-447f-9439-6b5fd7ee28a1"
      },
      "source": [
        "from sklearn.metrics import accuracy_score, precision_score, recall_score, f1_score\n",
        "from sklearn.ensemble import RandomForestClassifier\n",
        "from sklearn.model_selection import train_test_split\n",
        "\n",
        "np.random.seed(42)\n",
        "\n",
        "X = heart_disease.drop(\"target\", axis=1)\n",
        "y = heart_disease[\"target\"]\n",
        "\n",
        "X_train, X_test, y_train, y_test = train_test_split(X, y, test_size=0.33)\n",
        "\n",
        "clf = RandomForestClassifier(n_estimators=100)\n",
        "clf.fit(X_train, y_train)\n",
        "\n",
        "y_preds = clf.predict(X_test)\n",
        "\n",
        "print(\"Classifier metrics on the test set\")\n",
        "print(f\"Accuracy: {accuracy_score(y_test, y_preds)*100:.2f}%\")\n",
        "print(f\"Precision: {precision_score(y_test, y_preds)}\")\n",
        "print(f\"Recall: {recall_score(y_test, y_preds)}\")\n",
        "print(f\"F1: {f1_score(y_test, y_preds)}\")"
      ],
      "execution_count": 48,
      "outputs": [
        {
          "output_type": "stream",
          "name": "stdout",
          "text": [
            "Classifier metrics on the test set\n",
            "Accuracy: 82.00%\n",
            "Precision: 0.8571428571428571\n",
            "Recall: 0.8275862068965517\n",
            "F1: 0.8421052631578947\n"
          ]
        }
      ]
    },
    {
      "cell_type": "markdown",
      "metadata": {
        "id": "jQFXua0ylz6v"
      },
      "source": [
        "Regression evaluation functions\n",
        "\n"
      ]
    },
    {
      "cell_type": "code",
      "metadata": {
        "colab": {
          "base_uri": "https://localhost:8080/"
        },
        "id": "sMY8I7SFltwM",
        "outputId": "a34f2bd0-e49d-460d-9d7c-1e7f721e1538"
      },
      "source": [
        "from sklearn.metrics import r2_score, mean_absolute_error, mean_squared_error\n",
        "from sklearn.ensemble import RandomForestRegressor\n",
        "from sklearn.model_selection import train_test_split\n",
        "import math\n",
        "\n",
        "np.random.seed(42)\n",
        "\n",
        "X = boston_df.drop(\"target\", axis=1)\n",
        "y = boston_df[\"target\"]\n",
        "\n",
        "X_train, X_test, y_train, y_test = train_test_split(X, y, test_size=0.3)\n",
        "\n",
        "model = RandomForestRegressor(n_estimators=100)\n",
        "model.fit(X_train, y_train)\n",
        "\n",
        "y_preds = model.predict(X_test)\n",
        "\n",
        "print(\"Regression model metrics on the test set\")\n",
        "print(f\"R^2: {r2_score(y_test, y_preds)}\")\n",
        "print(f\"MAE: {mean_absolute_error(y_test, y_preds)}\")\n",
        "print(f\"MSE: {mean_squared_error(y_test, y_preds)}\")\n",
        "print(f\"RMSE: {math.sqrt(mean_squared_error(y_test, y_preds))}\")"
      ],
      "execution_count": 49,
      "outputs": [
        {
          "output_type": "stream",
          "name": "stdout",
          "text": [
            "Regression model metrics on the test set\n",
            "R^2: 0.8797770038888664\n",
            "MAE: 2.0881644736842104\n",
            "MSE: 8.95818759868421\n",
            "RMSE: 2.9930231537166914\n"
          ]
        }
      ]
    },
    {
      "cell_type": "markdown",
      "metadata": {
        "id": "VLyKZijQR-bZ"
      },
      "source": [
        "Improving a model"
      ]
    },
    {
      "cell_type": "markdown",
      "metadata": {
        "id": "fHLUqEbnSEQ9"
      },
      "source": [
        "First predictions = baseline predictions. First model = baseline model.\n",
        "\n",
        "From a data perspective:\n",
        "\n",
        "1. Could we collect more data? (generally, the more data, the better)\n",
        "2. Could we improve our data?\n",
        "\n",
        "From a model perspective:\n",
        "\n",
        "1. Is there a better model we could use?\n",
        "2. Could we improve the current model?\n",
        "\n",
        "Hyperparameters vs. Parameters\n",
        "\n",
        "1. Parameters = model find these patterns in data\n",
        "2. Hyperparameters = settings on a model you can    adjust to (potentially) improve its ability to find  patterns\n",
        "\n",
        "Three ways to adjust hyperparameters:\n",
        "\n",
        "1. By hand\n",
        "2. Randomly with RandomSearchCV\n",
        "3. Exhaustively with GridSearchCV"
      ]
    },
    {
      "cell_type": "code",
      "metadata": {
        "id": "XK65SYxOmTWw"
      },
      "source": [
        "from sklearn.ensemble import RandomForestClassifier\n",
        "\n",
        "# clf = RandomForestClassifier(n_estimator=100)"
      ],
      "execution_count": 50,
      "outputs": []
    },
    {
      "cell_type": "code",
      "metadata": {
        "id": "m7CoEAaRWXSL"
      },
      "source": [
        "np.random.seed(42)\n",
        "\n",
        "X = heart_disease.drop(\"target\", axis=1)\n",
        "y = heart_disease[\"target\"]\n",
        "\n",
        "X_train, X_test, y_train, y_test = train_test_split(X, y, test_size=0.2)\n",
        "dlf = RandomForestClassifier()"
      ],
      "execution_count": 51,
      "outputs": []
    },
    {
      "cell_type": "code",
      "metadata": {
        "colab": {
          "base_uri": "https://localhost:8080/"
        },
        "id": "PyAJF5K9W5gI",
        "outputId": "a7c0d886-c42c-4718-8fcc-41d49bd8255d"
      },
      "source": [
        "dlf.get_params()"
      ],
      "execution_count": 52,
      "outputs": [
        {
          "output_type": "execute_result",
          "data": {
            "text/plain": [
              "{'bootstrap': True,\n",
              " 'ccp_alpha': 0.0,\n",
              " 'class_weight': None,\n",
              " 'criterion': 'gini',\n",
              " 'max_depth': None,\n",
              " 'max_features': 'auto',\n",
              " 'max_leaf_nodes': None,\n",
              " 'max_samples': None,\n",
              " 'min_impurity_decrease': 0.0,\n",
              " 'min_impurity_split': None,\n",
              " 'min_samples_leaf': 1,\n",
              " 'min_samples_split': 2,\n",
              " 'min_weight_fraction_leaf': 0.0,\n",
              " 'n_estimators': 100,\n",
              " 'n_jobs': None,\n",
              " 'oob_score': False,\n",
              " 'random_state': None,\n",
              " 'verbose': 0,\n",
              " 'warm_start': False}"
            ]
          },
          "metadata": {},
          "execution_count": 52
        }
      ]
    },
    {
      "cell_type": "markdown",
      "metadata": {
        "id": "6gJkOImsYKUR"
      },
      "source": [
        "Tuning hyperparameters by hand </br>\n",
        "Let's make 3 sets, training, validation and test."
      ]
    },
    {
      "cell_type": "markdown",
      "metadata": {
        "id": "BUiseLIOZRYZ"
      },
      "source": [
        "We're going to try and adjust:\n",
        "\n",
        "* max_depth\n",
        "* max_features\n",
        "* min_samples_leaf\n",
        "* min_samples_split\n",
        "* n_estimators"
      ]
    },
    {
      "cell_type": "code",
      "metadata": {
        "id": "lXvrt3ZQYD54"
      },
      "source": [
        "def evaluate_preds(y_true, y_preds):\n",
        "    \"\"\"\n",
        "    Performs evaluation comparison on y_true labels vs. y_pred labels\n",
        "    on a classification.\n",
        "    \"\"\"\n",
        "    accuracy = accuracy_score(y_true, y_preds)\n",
        "    precision = precision_score(y_true, y_preds)\n",
        "    recall = recall_score(y_true, y_preds)\n",
        "    f1 = f1_score(y_true, y_preds)\n",
        "    metric_dict = {\"accuracy\": round(accuracy, 2), \"precision\": round(precision, 2), \"recall\": round(recall, 2), \"f1\": round(f1, 2)}\n",
        "    \n",
        "    print(f\"Acc: {accuracy * 100:.2f}%\")\n",
        "    print(f\"Precision: {precision:.2f}\")\n",
        "    print(f\"Recall: {recall:.2f}\")\n",
        "    print(f\"F1 score: {f1:.2f}\")\n",
        "    \n",
        "    return metric_dict"
      ],
      "execution_count": 53,
      "outputs": []
    },
    {
      "cell_type": "code",
      "metadata": {
        "id": "clDnReEeaQ0x"
      },
      "source": [
        "# from sklearn.model_selection import RandomizedSearchCV\n",
        "\n",
        "# grid = {\"n_estimators\": [10, 100, 200, 500, 1000, 1200],\n",
        "#         \"max_depth\": [None, 5, 10, 20, 30],\n",
        "#         \"max_features\": [\"auto\", \"sqrt\"],\n",
        "#         \"min_samples_split\": [2, 4, 6],\n",
        "#         \"min_samples_leaf\": [1, 2, 4]}\n",
        "\n",
        "# np.random.seed(42)\n",
        "\n",
        "# # Split into X & y\n",
        "# X = heart_disease_shuffled.drop(\"target\", axis=1)\n",
        "# y = heart_disease_shuffled[\"target\"]\n",
        "\n",
        "# # Split into train and test sets\n",
        "# X_train, X_test, y_train, y_test = train_test_split(X, y, test_size=0.2)\n",
        "\n",
        "# # Instantiate RandomForestClassifier\n",
        "# clf = RandomForestClassifier(n_jobs=1)\n",
        "\n",
        "# # Setup RandomizedSearchCV\n",
        "# rs_clf = RandomizedSearchCV(estimator=clf,\n",
        "#                             param_distributions=grid, \n",
        "#                             n_iter=10, # number of models to try\n",
        "#                             cv=5,\n",
        "#                             verbose=2)\n",
        "\n",
        "# # Fit the RandomizedSearchCV version of clf\n",
        "# rs_clf.fit(X_train, y_train);"
      ],
      "execution_count": 54,
      "outputs": []
    },
    {
      "cell_type": "code",
      "metadata": {
        "id": "5RLc1zW-GrM3"
      },
      "source": [
        "grid_2 = {'n_estimators': [100, 200, 500],\n",
        "          'max_depth': [None],\n",
        "          'max_features': ['auto', 'sqrt'],\n",
        "          'min_samples_split': [6],\n",
        "          'min_samples_leaf': [1, 2]}"
      ],
      "execution_count": 55,
      "outputs": []
    },
    {
      "cell_type": "code",
      "metadata": {
        "id": "rpdVbWI-JJ8t"
      },
      "source": [
        "# from sklearn.model_selection import GridSearchCV, train_test_split\n",
        "\n",
        "# np.random.seed(42)\n",
        "\n",
        "# # Split into X & y\n",
        "# X = heart_disease_shuffled.drop(\"target\", axis=1)\n",
        "# y = heart_disease_shuffled[\"target\"]\n",
        "\n",
        "# # Split into train and test sets\n",
        "# X_train, X_test, y_train, y_test = train_test_split(X, y, test_size=0.2)\n",
        "\n",
        "# # # Instantiate RandomForestClassifier\n",
        "# # clf = RandomForestClassifier(n_jobs=1)\n",
        "\n",
        "# # # Setup GridSearchCV\n",
        "# # gs_clf = GridSearchCV(estimator=clf,\n",
        "# #                       param_grid=grid_2, \n",
        "# #                       cv=5,\n",
        "# #                       verbose=2)\n",
        "\n",
        "# # Fit the GridSearchCV version of clf\n",
        "# #gs_clf.fit(X_train, y_train);"
      ],
      "execution_count": 56,
      "outputs": []
    },
    {
      "cell_type": "code",
      "metadata": {
        "id": "KfYRHYKjJSMK"
      },
      "source": [
        "# compare_metrics = pd.DataFrame({\"baseline\": baseline_metrics,\n",
        "#                                 \"clf_2\": clf_2_metrics,\n",
        "#                                 \"random search\": rs_metrics,\n",
        "#                                 \"grid search\": gs_metrics})\n",
        "\n",
        "# compare_metrics.plot.bar(figsize=(10, 8));\n"
      ],
      "execution_count": 57,
      "outputs": []
    },
    {
      "cell_type": "markdown",
      "metadata": {
        "id": "gH_y85osKhMU"
      },
      "source": [
        "Saving and loading trained machine learning models\n",
        "\n",
        "There are two ways to save and load machine learning models:\n",
        "\n",
        "1. With Python's pickle module\n",
        "2. With the joblib module"
      ]
    },
    {
      "cell_type": "code",
      "metadata": {
        "colab": {
          "base_uri": "https://localhost:8080/",
          "height": 52
        },
        "id": "0r0wHy-PJYnr",
        "outputId": "fb4d95fe-f32e-425e-bb97-ec100db1a40a"
      },
      "source": [
        "import pickle\n",
        "\n",
        "# Save an extisting model to file\n",
        "\"\"\"\n",
        "pickle.dump(gs_clf, open(\"gs_random_random_forest_model_1.pkl\", \"wb\"))\n",
        "\"\"\"\n",
        "\"\"\"\n",
        "# Load a saved model\n",
        "loaded_pickle_model = pickle.load(open(\"gs_random_random_forest_model_1.pkl\", \"rb\"))\n",
        "\"\"\"\n",
        "\"\"\"\n",
        "# Make some predictions\n",
        "pickle_y_preds = loaded_pickle_model.predict(X_test)\n",
        "evaluate_preds(y_test, pickle_y_preds)\n",
        "\"\"\""
      ],
      "execution_count": 58,
      "outputs": [
        {
          "output_type": "execute_result",
          "data": {
            "application/vnd.google.colaboratory.intrinsic+json": {
              "type": "string"
            },
            "text/plain": [
              "'\\n# Make some predictions\\npickle_y_preds = loaded_pickle_model.predict(X_test)\\nevaluate_preds(y_test, pickle_y_preds)\\n'"
            ]
          },
          "metadata": {},
          "execution_count": 58
        }
      ]
    },
    {
      "cell_type": "code",
      "metadata": {
        "colab": {
          "base_uri": "https://localhost:8080/",
          "height": 52
        },
        "id": "WijEec8sK1Z9",
        "outputId": "d2a728fa-aab8-4e5c-c598-55074bc11388"
      },
      "source": [
        "from joblib import dump, load\n",
        "\n",
        "\"\"\"\n",
        "# Save model to file\n",
        "dump(gs_clf, filename=\"gs_random_forest_model_1.joblib\")\n",
        "\"\"\"\n",
        "\"\"\"\n",
        "# Import a saved joblib model\n",
        "loaded_joblib_model = load(filename=\"gs_random_forest_model_1.joblib\")\n",
        "\"\"\"\n",
        "\"\"\"\n",
        "# Make and evaluate joblib predictions\n",
        "joblib_y_preds = loaded_joblib_model.predict(X_test)\n",
        "evaluate_preds(y_test, joblib_y_preds)\n",
        "\"\"\""
      ],
      "execution_count": 59,
      "outputs": [
        {
          "output_type": "execute_result",
          "data": {
            "application/vnd.google.colaboratory.intrinsic+json": {
              "type": "string"
            },
            "text/plain": [
              "'\\n# Make and evaluate joblib predictions\\njoblib_y_preds = loaded_joblib_model.predict(X_test)\\nevaluate_preds(y_test, joblib_y_preds)\\n'"
            ]
          },
          "metadata": {},
          "execution_count": 59
        }
      ]
    },
    {
      "cell_type": "code",
      "metadata": {
        "id": "5M-UBoU1LNdO",
        "colab": {
          "base_uri": "https://localhost:8080/",
          "height": 419
        },
        "outputId": "d4a59311-24ca-4ce8-a009-4eefac4cf9c6"
      },
      "source": [
        "data = pd.read_csv(\"car-sales-extended-missing-data.csv\")\n",
        "data"
      ],
      "execution_count": 60,
      "outputs": [
        {
          "output_type": "execute_result",
          "data": {
            "text/html": [
              "<div>\n",
              "<style scoped>\n",
              "    .dataframe tbody tr th:only-of-type {\n",
              "        vertical-align: middle;\n",
              "    }\n",
              "\n",
              "    .dataframe tbody tr th {\n",
              "        vertical-align: top;\n",
              "    }\n",
              "\n",
              "    .dataframe thead th {\n",
              "        text-align: right;\n",
              "    }\n",
              "</style>\n",
              "<table border=\"1\" class=\"dataframe\">\n",
              "  <thead>\n",
              "    <tr style=\"text-align: right;\">\n",
              "      <th></th>\n",
              "      <th>Make</th>\n",
              "      <th>Colour</th>\n",
              "      <th>Odometer (KM)</th>\n",
              "      <th>Doors</th>\n",
              "      <th>Price</th>\n",
              "    </tr>\n",
              "  </thead>\n",
              "  <tbody>\n",
              "    <tr>\n",
              "      <th>0</th>\n",
              "      <td>Honda</td>\n",
              "      <td>White</td>\n",
              "      <td>35431.0</td>\n",
              "      <td>4.0</td>\n",
              "      <td>15323.0</td>\n",
              "    </tr>\n",
              "    <tr>\n",
              "      <th>1</th>\n",
              "      <td>BMW</td>\n",
              "      <td>Blue</td>\n",
              "      <td>192714.0</td>\n",
              "      <td>5.0</td>\n",
              "      <td>19943.0</td>\n",
              "    </tr>\n",
              "    <tr>\n",
              "      <th>2</th>\n",
              "      <td>Honda</td>\n",
              "      <td>White</td>\n",
              "      <td>84714.0</td>\n",
              "      <td>4.0</td>\n",
              "      <td>28343.0</td>\n",
              "    </tr>\n",
              "    <tr>\n",
              "      <th>3</th>\n",
              "      <td>Toyota</td>\n",
              "      <td>White</td>\n",
              "      <td>154365.0</td>\n",
              "      <td>4.0</td>\n",
              "      <td>13434.0</td>\n",
              "    </tr>\n",
              "    <tr>\n",
              "      <th>4</th>\n",
              "      <td>Nissan</td>\n",
              "      <td>Blue</td>\n",
              "      <td>181577.0</td>\n",
              "      <td>3.0</td>\n",
              "      <td>14043.0</td>\n",
              "    </tr>\n",
              "    <tr>\n",
              "      <th>...</th>\n",
              "      <td>...</td>\n",
              "      <td>...</td>\n",
              "      <td>...</td>\n",
              "      <td>...</td>\n",
              "      <td>...</td>\n",
              "    </tr>\n",
              "    <tr>\n",
              "      <th>995</th>\n",
              "      <td>Toyota</td>\n",
              "      <td>Black</td>\n",
              "      <td>35820.0</td>\n",
              "      <td>4.0</td>\n",
              "      <td>32042.0</td>\n",
              "    </tr>\n",
              "    <tr>\n",
              "      <th>996</th>\n",
              "      <td>NaN</td>\n",
              "      <td>White</td>\n",
              "      <td>155144.0</td>\n",
              "      <td>3.0</td>\n",
              "      <td>5716.0</td>\n",
              "    </tr>\n",
              "    <tr>\n",
              "      <th>997</th>\n",
              "      <td>Nissan</td>\n",
              "      <td>Blue</td>\n",
              "      <td>66604.0</td>\n",
              "      <td>4.0</td>\n",
              "      <td>31570.0</td>\n",
              "    </tr>\n",
              "    <tr>\n",
              "      <th>998</th>\n",
              "      <td>Honda</td>\n",
              "      <td>White</td>\n",
              "      <td>215883.0</td>\n",
              "      <td>4.0</td>\n",
              "      <td>4001.0</td>\n",
              "    </tr>\n",
              "    <tr>\n",
              "      <th>999</th>\n",
              "      <td>Toyota</td>\n",
              "      <td>Blue</td>\n",
              "      <td>248360.0</td>\n",
              "      <td>4.0</td>\n",
              "      <td>12732.0</td>\n",
              "    </tr>\n",
              "  </tbody>\n",
              "</table>\n",
              "<p>1000 rows × 5 columns</p>\n",
              "</div>"
            ],
            "text/plain": [
              "       Make Colour  Odometer (KM)  Doors    Price\n",
              "0     Honda  White        35431.0    4.0  15323.0\n",
              "1       BMW   Blue       192714.0    5.0  19943.0\n",
              "2     Honda  White        84714.0    4.0  28343.0\n",
              "3    Toyota  White       154365.0    4.0  13434.0\n",
              "4    Nissan   Blue       181577.0    3.0  14043.0\n",
              "..      ...    ...            ...    ...      ...\n",
              "995  Toyota  Black        35820.0    4.0  32042.0\n",
              "996     NaN  White       155144.0    3.0   5716.0\n",
              "997  Nissan   Blue        66604.0    4.0  31570.0\n",
              "998   Honda  White       215883.0    4.0   4001.0\n",
              "999  Toyota   Blue       248360.0    4.0  12732.0\n",
              "\n",
              "[1000 rows x 5 columns]"
            ]
          },
          "metadata": {},
          "execution_count": 60
        }
      ]
    },
    {
      "cell_type": "code",
      "metadata": {
        "colab": {
          "base_uri": "https://localhost:8080/"
        },
        "id": "6qHm7QOnheXa",
        "outputId": "ec5f87fb-dcab-4820-85bf-098f4aa1e611"
      },
      "source": [
        "data.dtypes"
      ],
      "execution_count": 62,
      "outputs": [
        {
          "output_type": "execute_result",
          "data": {
            "text/plain": [
              "Make              object\n",
              "Colour            object\n",
              "Odometer (KM)    float64\n",
              "Doors            float64\n",
              "Price            float64\n",
              "dtype: object"
            ]
          },
          "metadata": {},
          "execution_count": 62
        }
      ]
    },
    {
      "cell_type": "code",
      "metadata": {
        "colab": {
          "base_uri": "https://localhost:8080/"
        },
        "id": "oxcNB8vRh6MJ",
        "outputId": "c1a2bd4c-6d85-47ac-86e5-b89666302997"
      },
      "source": [
        "data.isna().sum()"
      ],
      "execution_count": 63,
      "outputs": [
        {
          "output_type": "execute_result",
          "data": {
            "text/plain": [
              "Make             49\n",
              "Colour           50\n",
              "Odometer (KM)    50\n",
              "Doors            50\n",
              "Price            50\n",
              "dtype: int64"
            ]
          },
          "metadata": {},
          "execution_count": 63
        }
      ]
    },
    {
      "cell_type": "markdown",
      "metadata": {
        "id": "a5qPhOvwkcRf"
      },
      "source": [
        "* all data should be numerical\n",
        "* there should be no missing values\n",
        "* manipulate test and training set as same\n",
        "* dont test on _trained_ data\n",
        "* tune hyperp-parameters on validation set or use cross validation\n",
        "* one best performance model does not mean best perform metric"
      ]
    },
    {
      "cell_type": "code",
      "metadata": {
        "id": "-UhOPaw7iHM3"
      },
      "source": [
        "# Fill missing data\n",
        "# Convert data to numbers\n",
        "# Build a model on the data"
      ],
      "execution_count": 64,
      "outputs": []
    },
    {
      "cell_type": "code",
      "metadata": {
        "id": "J2H3JMCNjVvQ"
      },
      "source": [
        "# Getting data ready\n",
        "import pandas as pd\n",
        "from sklearn.compose import ColumnTransformer\n",
        "from sklearn.pipeline import Pipeline\n",
        "from sklearn.impute import SimpleImputer\n",
        "from sklearn.preprocessing import OneHotEncoder"
      ],
      "execution_count": 65,
      "outputs": []
    },
    {
      "cell_type": "code",
      "metadata": {
        "id": "vV3oY762jbF3"
      },
      "source": [
        "# Modelling\n",
        "from sklearn.ensemble import RandomForestRegressor\n",
        "from sklearn.model_selection import train_test_split, GridSearchCV"
      ],
      "execution_count": 66,
      "outputs": []
    },
    {
      "cell_type": "code",
      "metadata": {
        "id": "Sy0zM_kMj8eT"
      },
      "source": [
        "# Setup random seed\n",
        "import numpy as np\n",
        "np.random.seed(42)\n"
      ],
      "execution_count": 67,
      "outputs": []
    },
    {
      "cell_type": "code",
      "metadata": {
        "id": "vFOV3GV_kBdd"
      },
      "source": [
        "# Import data and drop rows with missing labels\n",
        "data = pd.read_csv(\"car-sales-extended-missing-data.csv\")\n",
        "data.dropna(subset=[\"Price\"], inplace=True)"
      ],
      "execution_count": 68,
      "outputs": []
    },
    {
      "cell_type": "code",
      "metadata": {
        "id": "ivModZ7mkGYf"
      },
      "source": [
        "# Define different features and transformer pipeline\n",
        "categorical_features = [\"Make\", \"Colour\"]\n",
        "categorical_transformer = Pipeline(steps=[\n",
        "    (\"imputer\", SimpleImputer(strategy=\"constant\", fill_value=\"missing\")),\n",
        "    (\"onehot\", OneHotEncoder(handle_unknown=\"ignore\"))])\n",
        "\n",
        "door_feature = [\"Doors\"]\n",
        "door_transformer = Pipeline(steps=[\n",
        "    (\"imputer\", SimpleImputer(strategy=\"constant\", fill_value=4))\n",
        "])\n",
        "\n",
        "numeric_features = [\"Odometer (KM)\"]\n",
        "numeric_transformer = Pipeline(steps=[\n",
        "    (\"imputer\", SimpleImputer(strategy=\"mean\"))\n",
        "])"
      ],
      "execution_count": 69,
      "outputs": []
    },
    {
      "cell_type": "code",
      "metadata": {
        "id": "QDspL3k2nMaS"
      },
      "source": [
        "# Setup preprocessing steps (fill missing values, then convert to numbers)\n",
        "preprocessor = ColumnTransformer(\n",
        "                    transformers=[\n",
        "                        (\"cat\", categorical_transformer, categorical_features),\n",
        "                        (\"door\", door_transformer, door_feature),\n",
        "                        (\"num\", numeric_transformer, numeric_features)\n",
        "                    ])"
      ],
      "execution_count": 70,
      "outputs": []
    },
    {
      "cell_type": "code",
      "metadata": {
        "id": "YLmFBrWNnvk-"
      },
      "source": [
        "# Creating a preprocessing and modelling pipeline\n",
        "model = Pipeline(steps=[(\"preprocessor\", preprocessor),\n",
        "                        (\"model\", RandomForestRegressor())])"
      ],
      "execution_count": 71,
      "outputs": []
    },
    {
      "cell_type": "code",
      "metadata": {
        "id": "IhUIsf4Yn2cy"
      },
      "source": [
        "X = data.drop(\"Price\", axis=1)\n",
        "y = data[\"Price\"]\n",
        "X_train, X_test, y_train, y_test = train_test_split(X, y, test_size=0.3)"
      ],
      "execution_count": 72,
      "outputs": []
    },
    {
      "cell_type": "code",
      "metadata": {
        "colab": {
          "base_uri": "https://localhost:8080/"
        },
        "id": "caWd8ioan7zy",
        "outputId": "d0d07361-0d7b-4d6c-ceae-251b03dc88da"
      },
      "source": [
        "model.fit(X_train, y_train)\n",
        "model.score(X_test, y_test)"
      ],
      "execution_count": 73,
      "outputs": [
        {
          "output_type": "execute_result",
          "data": {
            "text/plain": [
              "0.2323456655743631"
            ]
          },
          "metadata": {},
          "execution_count": 73
        }
      ]
    },
    {
      "cell_type": "code",
      "metadata": {
        "colab": {
          "base_uri": "https://localhost:8080/"
        },
        "id": "N2_MuQnnn_lh",
        "outputId": "ddc97151-916c-4641-d7e6-0dd590c27f87"
      },
      "source": [
        "# we can use GridSearchCV with our regression Pipeline\n",
        "from sklearn.model_selection import GridSearchCV\n",
        "\n",
        "pipe_grid = {\n",
        "    \"preprocessor__num__imputer__strategy\": [\"mean\", \"median\"],\n",
        "    \"model__n_estimators\": [100, 1000],\n",
        "    \"model__max_depth\": [None, 5],\n",
        "    \"model__max_features\": [\"auto\"],\n",
        "    \"model__min_samples_split\": [2, 4]    \n",
        "}\n",
        "\n",
        "gs_model = GridSearchCV(model, pipe_grid, cv=5, verbose=2)\n",
        "gs_model.fit(X_train, y_train)"
      ],
      "execution_count": 74,
      "outputs": [
        {
          "output_type": "stream",
          "name": "stdout",
          "text": [
            "Fitting 5 folds for each of 16 candidates, totalling 80 fits\n",
            "[CV] model__max_depth=None, model__max_features=auto, model__min_samples_split=2, model__n_estimators=100, preprocessor__num__imputer__strategy=mean \n"
          ]
        },
        {
          "output_type": "stream",
          "name": "stderr",
          "text": [
            "[Parallel(n_jobs=1)]: Using backend SequentialBackend with 1 concurrent workers.\n"
          ]
        },
        {
          "output_type": "stream",
          "name": "stdout",
          "text": [
            "[CV]  model__max_depth=None, model__max_features=auto, model__min_samples_split=2, model__n_estimators=100, preprocessor__num__imputer__strategy=mean, total=   0.2s\n",
            "[CV] model__max_depth=None, model__max_features=auto, model__min_samples_split=2, model__n_estimators=100, preprocessor__num__imputer__strategy=mean \n"
          ]
        },
        {
          "output_type": "stream",
          "name": "stderr",
          "text": [
            "[Parallel(n_jobs=1)]: Done   1 out of   1 | elapsed:    0.2s remaining:    0.0s\n"
          ]
        },
        {
          "output_type": "stream",
          "name": "stdout",
          "text": [
            "[CV]  model__max_depth=None, model__max_features=auto, model__min_samples_split=2, model__n_estimators=100, preprocessor__num__imputer__strategy=mean, total=   0.2s\n",
            "[CV] model__max_depth=None, model__max_features=auto, model__min_samples_split=2, model__n_estimators=100, preprocessor__num__imputer__strategy=mean \n",
            "[CV]  model__max_depth=None, model__max_features=auto, model__min_samples_split=2, model__n_estimators=100, preprocessor__num__imputer__strategy=mean, total=   0.2s\n",
            "[CV] model__max_depth=None, model__max_features=auto, model__min_samples_split=2, model__n_estimators=100, preprocessor__num__imputer__strategy=mean \n",
            "[CV]  model__max_depth=None, model__max_features=auto, model__min_samples_split=2, model__n_estimators=100, preprocessor__num__imputer__strategy=mean, total=   0.2s\n",
            "[CV] model__max_depth=None, model__max_features=auto, model__min_samples_split=2, model__n_estimators=100, preprocessor__num__imputer__strategy=mean \n",
            "[CV]  model__max_depth=None, model__max_features=auto, model__min_samples_split=2, model__n_estimators=100, preprocessor__num__imputer__strategy=mean, total=   0.2s\n",
            "[CV] model__max_depth=None, model__max_features=auto, model__min_samples_split=2, model__n_estimators=100, preprocessor__num__imputer__strategy=median \n",
            "[CV]  model__max_depth=None, model__max_features=auto, model__min_samples_split=2, model__n_estimators=100, preprocessor__num__imputer__strategy=median, total=   0.2s\n",
            "[CV] model__max_depth=None, model__max_features=auto, model__min_samples_split=2, model__n_estimators=100, preprocessor__num__imputer__strategy=median \n",
            "[CV]  model__max_depth=None, model__max_features=auto, model__min_samples_split=2, model__n_estimators=100, preprocessor__num__imputer__strategy=median, total=   0.2s\n",
            "[CV] model__max_depth=None, model__max_features=auto, model__min_samples_split=2, model__n_estimators=100, preprocessor__num__imputer__strategy=median \n",
            "[CV]  model__max_depth=None, model__max_features=auto, model__min_samples_split=2, model__n_estimators=100, preprocessor__num__imputer__strategy=median, total=   0.2s\n",
            "[CV] model__max_depth=None, model__max_features=auto, model__min_samples_split=2, model__n_estimators=100, preprocessor__num__imputer__strategy=median \n",
            "[CV]  model__max_depth=None, model__max_features=auto, model__min_samples_split=2, model__n_estimators=100, preprocessor__num__imputer__strategy=median, total=   0.2s\n",
            "[CV] model__max_depth=None, model__max_features=auto, model__min_samples_split=2, model__n_estimators=100, preprocessor__num__imputer__strategy=median \n",
            "[CV]  model__max_depth=None, model__max_features=auto, model__min_samples_split=2, model__n_estimators=100, preprocessor__num__imputer__strategy=median, total=   0.2s\n",
            "[CV] model__max_depth=None, model__max_features=auto, model__min_samples_split=2, model__n_estimators=1000, preprocessor__num__imputer__strategy=mean \n",
            "[CV]  model__max_depth=None, model__max_features=auto, model__min_samples_split=2, model__n_estimators=1000, preprocessor__num__imputer__strategy=mean, total=   2.0s\n",
            "[CV] model__max_depth=None, model__max_features=auto, model__min_samples_split=2, model__n_estimators=1000, preprocessor__num__imputer__strategy=mean \n",
            "[CV]  model__max_depth=None, model__max_features=auto, model__min_samples_split=2, model__n_estimators=1000, preprocessor__num__imputer__strategy=mean, total=   2.0s\n",
            "[CV] model__max_depth=None, model__max_features=auto, model__min_samples_split=2, model__n_estimators=1000, preprocessor__num__imputer__strategy=mean \n",
            "[CV]  model__max_depth=None, model__max_features=auto, model__min_samples_split=2, model__n_estimators=1000, preprocessor__num__imputer__strategy=mean, total=   1.9s\n",
            "[CV] model__max_depth=None, model__max_features=auto, model__min_samples_split=2, model__n_estimators=1000, preprocessor__num__imputer__strategy=mean \n",
            "[CV]  model__max_depth=None, model__max_features=auto, model__min_samples_split=2, model__n_estimators=1000, preprocessor__num__imputer__strategy=mean, total=   2.0s\n",
            "[CV] model__max_depth=None, model__max_features=auto, model__min_samples_split=2, model__n_estimators=1000, preprocessor__num__imputer__strategy=mean \n",
            "[CV]  model__max_depth=None, model__max_features=auto, model__min_samples_split=2, model__n_estimators=1000, preprocessor__num__imputer__strategy=mean, total=   1.9s\n",
            "[CV] model__max_depth=None, model__max_features=auto, model__min_samples_split=2, model__n_estimators=1000, preprocessor__num__imputer__strategy=median \n",
            "[CV]  model__max_depth=None, model__max_features=auto, model__min_samples_split=2, model__n_estimators=1000, preprocessor__num__imputer__strategy=median, total=   2.0s\n",
            "[CV] model__max_depth=None, model__max_features=auto, model__min_samples_split=2, model__n_estimators=1000, preprocessor__num__imputer__strategy=median \n",
            "[CV]  model__max_depth=None, model__max_features=auto, model__min_samples_split=2, model__n_estimators=1000, preprocessor__num__imputer__strategy=median, total=   2.0s\n",
            "[CV] model__max_depth=None, model__max_features=auto, model__min_samples_split=2, model__n_estimators=1000, preprocessor__num__imputer__strategy=median \n",
            "[CV]  model__max_depth=None, model__max_features=auto, model__min_samples_split=2, model__n_estimators=1000, preprocessor__num__imputer__strategy=median, total=   2.0s\n",
            "[CV] model__max_depth=None, model__max_features=auto, model__min_samples_split=2, model__n_estimators=1000, preprocessor__num__imputer__strategy=median \n",
            "[CV]  model__max_depth=None, model__max_features=auto, model__min_samples_split=2, model__n_estimators=1000, preprocessor__num__imputer__strategy=median, total=   1.9s\n",
            "[CV] model__max_depth=None, model__max_features=auto, model__min_samples_split=2, model__n_estimators=1000, preprocessor__num__imputer__strategy=median \n",
            "[CV]  model__max_depth=None, model__max_features=auto, model__min_samples_split=2, model__n_estimators=1000, preprocessor__num__imputer__strategy=median, total=   1.9s\n",
            "[CV] model__max_depth=None, model__max_features=auto, model__min_samples_split=4, model__n_estimators=100, preprocessor__num__imputer__strategy=mean \n",
            "[CV]  model__max_depth=None, model__max_features=auto, model__min_samples_split=4, model__n_estimators=100, preprocessor__num__imputer__strategy=mean, total=   0.2s\n",
            "[CV] model__max_depth=None, model__max_features=auto, model__min_samples_split=4, model__n_estimators=100, preprocessor__num__imputer__strategy=mean \n",
            "[CV]  model__max_depth=None, model__max_features=auto, model__min_samples_split=4, model__n_estimators=100, preprocessor__num__imputer__strategy=mean, total=   0.2s\n",
            "[CV] model__max_depth=None, model__max_features=auto, model__min_samples_split=4, model__n_estimators=100, preprocessor__num__imputer__strategy=mean \n",
            "[CV]  model__max_depth=None, model__max_features=auto, model__min_samples_split=4, model__n_estimators=100, preprocessor__num__imputer__strategy=mean, total=   0.2s\n",
            "[CV] model__max_depth=None, model__max_features=auto, model__min_samples_split=4, model__n_estimators=100, preprocessor__num__imputer__strategy=mean \n",
            "[CV]  model__max_depth=None, model__max_features=auto, model__min_samples_split=4, model__n_estimators=100, preprocessor__num__imputer__strategy=mean, total=   0.2s\n",
            "[CV] model__max_depth=None, model__max_features=auto, model__min_samples_split=4, model__n_estimators=100, preprocessor__num__imputer__strategy=mean \n",
            "[CV]  model__max_depth=None, model__max_features=auto, model__min_samples_split=4, model__n_estimators=100, preprocessor__num__imputer__strategy=mean, total=   0.2s\n",
            "[CV] model__max_depth=None, model__max_features=auto, model__min_samples_split=4, model__n_estimators=100, preprocessor__num__imputer__strategy=median \n",
            "[CV]  model__max_depth=None, model__max_features=auto, model__min_samples_split=4, model__n_estimators=100, preprocessor__num__imputer__strategy=median, total=   0.2s\n",
            "[CV] model__max_depth=None, model__max_features=auto, model__min_samples_split=4, model__n_estimators=100, preprocessor__num__imputer__strategy=median \n",
            "[CV]  model__max_depth=None, model__max_features=auto, model__min_samples_split=4, model__n_estimators=100, preprocessor__num__imputer__strategy=median, total=   0.2s\n",
            "[CV] model__max_depth=None, model__max_features=auto, model__min_samples_split=4, model__n_estimators=100, preprocessor__num__imputer__strategy=median \n",
            "[CV]  model__max_depth=None, model__max_features=auto, model__min_samples_split=4, model__n_estimators=100, preprocessor__num__imputer__strategy=median, total=   0.2s\n",
            "[CV] model__max_depth=None, model__max_features=auto, model__min_samples_split=4, model__n_estimators=100, preprocessor__num__imputer__strategy=median \n",
            "[CV]  model__max_depth=None, model__max_features=auto, model__min_samples_split=4, model__n_estimators=100, preprocessor__num__imputer__strategy=median, total=   0.2s\n",
            "[CV] model__max_depth=None, model__max_features=auto, model__min_samples_split=4, model__n_estimators=100, preprocessor__num__imputer__strategy=median \n",
            "[CV]  model__max_depth=None, model__max_features=auto, model__min_samples_split=4, model__n_estimators=100, preprocessor__num__imputer__strategy=median, total=   0.2s\n",
            "[CV] model__max_depth=None, model__max_features=auto, model__min_samples_split=4, model__n_estimators=1000, preprocessor__num__imputer__strategy=mean \n",
            "[CV]  model__max_depth=None, model__max_features=auto, model__min_samples_split=4, model__n_estimators=1000, preprocessor__num__imputer__strategy=mean, total=   1.9s\n",
            "[CV] model__max_depth=None, model__max_features=auto, model__min_samples_split=4, model__n_estimators=1000, preprocessor__num__imputer__strategy=mean \n",
            "[CV]  model__max_depth=None, model__max_features=auto, model__min_samples_split=4, model__n_estimators=1000, preprocessor__num__imputer__strategy=mean, total=   1.8s\n",
            "[CV] model__max_depth=None, model__max_features=auto, model__min_samples_split=4, model__n_estimators=1000, preprocessor__num__imputer__strategy=mean \n",
            "[CV]  model__max_depth=None, model__max_features=auto, model__min_samples_split=4, model__n_estimators=1000, preprocessor__num__imputer__strategy=mean, total=   1.9s\n",
            "[CV] model__max_depth=None, model__max_features=auto, model__min_samples_split=4, model__n_estimators=1000, preprocessor__num__imputer__strategy=mean \n",
            "[CV]  model__max_depth=None, model__max_features=auto, model__min_samples_split=4, model__n_estimators=1000, preprocessor__num__imputer__strategy=mean, total=   1.8s\n",
            "[CV] model__max_depth=None, model__max_features=auto, model__min_samples_split=4, model__n_estimators=1000, preprocessor__num__imputer__strategy=mean \n",
            "[CV]  model__max_depth=None, model__max_features=auto, model__min_samples_split=4, model__n_estimators=1000, preprocessor__num__imputer__strategy=mean, total=   1.8s\n",
            "[CV] model__max_depth=None, model__max_features=auto, model__min_samples_split=4, model__n_estimators=1000, preprocessor__num__imputer__strategy=median \n",
            "[CV]  model__max_depth=None, model__max_features=auto, model__min_samples_split=4, model__n_estimators=1000, preprocessor__num__imputer__strategy=median, total=   1.8s\n",
            "[CV] model__max_depth=None, model__max_features=auto, model__min_samples_split=4, model__n_estimators=1000, preprocessor__num__imputer__strategy=median \n",
            "[CV]  model__max_depth=None, model__max_features=auto, model__min_samples_split=4, model__n_estimators=1000, preprocessor__num__imputer__strategy=median, total=   1.8s\n",
            "[CV] model__max_depth=None, model__max_features=auto, model__min_samples_split=4, model__n_estimators=1000, preprocessor__num__imputer__strategy=median \n",
            "[CV]  model__max_depth=None, model__max_features=auto, model__min_samples_split=4, model__n_estimators=1000, preprocessor__num__imputer__strategy=median, total=   1.8s\n",
            "[CV] model__max_depth=None, model__max_features=auto, model__min_samples_split=4, model__n_estimators=1000, preprocessor__num__imputer__strategy=median \n",
            "[CV]  model__max_depth=None, model__max_features=auto, model__min_samples_split=4, model__n_estimators=1000, preprocessor__num__imputer__strategy=median, total=   1.8s\n",
            "[CV] model__max_depth=None, model__max_features=auto, model__min_samples_split=4, model__n_estimators=1000, preprocessor__num__imputer__strategy=median \n",
            "[CV]  model__max_depth=None, model__max_features=auto, model__min_samples_split=4, model__n_estimators=1000, preprocessor__num__imputer__strategy=median, total=   1.8s\n",
            "[CV] model__max_depth=5, model__max_features=auto, model__min_samples_split=2, model__n_estimators=100, preprocessor__num__imputer__strategy=mean \n",
            "[CV]  model__max_depth=5, model__max_features=auto, model__min_samples_split=2, model__n_estimators=100, preprocessor__num__imputer__strategy=mean, total=   0.2s\n",
            "[CV] model__max_depth=5, model__max_features=auto, model__min_samples_split=2, model__n_estimators=100, preprocessor__num__imputer__strategy=mean \n",
            "[CV]  model__max_depth=5, model__max_features=auto, model__min_samples_split=2, model__n_estimators=100, preprocessor__num__imputer__strategy=mean, total=   0.2s\n",
            "[CV] model__max_depth=5, model__max_features=auto, model__min_samples_split=2, model__n_estimators=100, preprocessor__num__imputer__strategy=mean \n",
            "[CV]  model__max_depth=5, model__max_features=auto, model__min_samples_split=2, model__n_estimators=100, preprocessor__num__imputer__strategy=mean, total=   0.2s\n",
            "[CV] model__max_depth=5, model__max_features=auto, model__min_samples_split=2, model__n_estimators=100, preprocessor__num__imputer__strategy=mean \n",
            "[CV]  model__max_depth=5, model__max_features=auto, model__min_samples_split=2, model__n_estimators=100, preprocessor__num__imputer__strategy=mean, total=   0.2s\n",
            "[CV] model__max_depth=5, model__max_features=auto, model__min_samples_split=2, model__n_estimators=100, preprocessor__num__imputer__strategy=mean \n",
            "[CV]  model__max_depth=5, model__max_features=auto, model__min_samples_split=2, model__n_estimators=100, preprocessor__num__imputer__strategy=mean, total=   0.2s\n",
            "[CV] model__max_depth=5, model__max_features=auto, model__min_samples_split=2, model__n_estimators=100, preprocessor__num__imputer__strategy=median \n",
            "[CV]  model__max_depth=5, model__max_features=auto, model__min_samples_split=2, model__n_estimators=100, preprocessor__num__imputer__strategy=median, total=   0.2s\n",
            "[CV] model__max_depth=5, model__max_features=auto, model__min_samples_split=2, model__n_estimators=100, preprocessor__num__imputer__strategy=median \n",
            "[CV]  model__max_depth=5, model__max_features=auto, model__min_samples_split=2, model__n_estimators=100, preprocessor__num__imputer__strategy=median, total=   0.2s\n",
            "[CV] model__max_depth=5, model__max_features=auto, model__min_samples_split=2, model__n_estimators=100, preprocessor__num__imputer__strategy=median \n",
            "[CV]  model__max_depth=5, model__max_features=auto, model__min_samples_split=2, model__n_estimators=100, preprocessor__num__imputer__strategy=median, total=   0.2s\n",
            "[CV] model__max_depth=5, model__max_features=auto, model__min_samples_split=2, model__n_estimators=100, preprocessor__num__imputer__strategy=median \n",
            "[CV]  model__max_depth=5, model__max_features=auto, model__min_samples_split=2, model__n_estimators=100, preprocessor__num__imputer__strategy=median, total=   0.2s\n",
            "[CV] model__max_depth=5, model__max_features=auto, model__min_samples_split=2, model__n_estimators=100, preprocessor__num__imputer__strategy=median \n",
            "[CV]  model__max_depth=5, model__max_features=auto, model__min_samples_split=2, model__n_estimators=100, preprocessor__num__imputer__strategy=median, total=   0.2s\n",
            "[CV] model__max_depth=5, model__max_features=auto, model__min_samples_split=2, model__n_estimators=1000, preprocessor__num__imputer__strategy=mean \n",
            "[CV]  model__max_depth=5, model__max_features=auto, model__min_samples_split=2, model__n_estimators=1000, preprocessor__num__imputer__strategy=mean, total=   1.4s\n",
            "[CV] model__max_depth=5, model__max_features=auto, model__min_samples_split=2, model__n_estimators=1000, preprocessor__num__imputer__strategy=mean \n",
            "[CV]  model__max_depth=5, model__max_features=auto, model__min_samples_split=2, model__n_estimators=1000, preprocessor__num__imputer__strategy=mean, total=   1.4s\n",
            "[CV] model__max_depth=5, model__max_features=auto, model__min_samples_split=2, model__n_estimators=1000, preprocessor__num__imputer__strategy=mean \n",
            "[CV]  model__max_depth=5, model__max_features=auto, model__min_samples_split=2, model__n_estimators=1000, preprocessor__num__imputer__strategy=mean, total=   1.4s\n",
            "[CV] model__max_depth=5, model__max_features=auto, model__min_samples_split=2, model__n_estimators=1000, preprocessor__num__imputer__strategy=mean \n",
            "[CV]  model__max_depth=5, model__max_features=auto, model__min_samples_split=2, model__n_estimators=1000, preprocessor__num__imputer__strategy=mean, total=   1.4s\n",
            "[CV] model__max_depth=5, model__max_features=auto, model__min_samples_split=2, model__n_estimators=1000, preprocessor__num__imputer__strategy=mean \n",
            "[CV]  model__max_depth=5, model__max_features=auto, model__min_samples_split=2, model__n_estimators=1000, preprocessor__num__imputer__strategy=mean, total=   1.4s\n",
            "[CV] model__max_depth=5, model__max_features=auto, model__min_samples_split=2, model__n_estimators=1000, preprocessor__num__imputer__strategy=median \n",
            "[CV]  model__max_depth=5, model__max_features=auto, model__min_samples_split=2, model__n_estimators=1000, preprocessor__num__imputer__strategy=median, total=   1.4s\n",
            "[CV] model__max_depth=5, model__max_features=auto, model__min_samples_split=2, model__n_estimators=1000, preprocessor__num__imputer__strategy=median \n",
            "[CV]  model__max_depth=5, model__max_features=auto, model__min_samples_split=2, model__n_estimators=1000, preprocessor__num__imputer__strategy=median, total=   1.5s\n",
            "[CV] model__max_depth=5, model__max_features=auto, model__min_samples_split=2, model__n_estimators=1000, preprocessor__num__imputer__strategy=median \n",
            "[CV]  model__max_depth=5, model__max_features=auto, model__min_samples_split=2, model__n_estimators=1000, preprocessor__num__imputer__strategy=median, total=   1.5s\n",
            "[CV] model__max_depth=5, model__max_features=auto, model__min_samples_split=2, model__n_estimators=1000, preprocessor__num__imputer__strategy=median \n",
            "[CV]  model__max_depth=5, model__max_features=auto, model__min_samples_split=2, model__n_estimators=1000, preprocessor__num__imputer__strategy=median, total=   1.4s\n",
            "[CV] model__max_depth=5, model__max_features=auto, model__min_samples_split=2, model__n_estimators=1000, preprocessor__num__imputer__strategy=median \n",
            "[CV]  model__max_depth=5, model__max_features=auto, model__min_samples_split=2, model__n_estimators=1000, preprocessor__num__imputer__strategy=median, total=   1.4s\n",
            "[CV] model__max_depth=5, model__max_features=auto, model__min_samples_split=4, model__n_estimators=100, preprocessor__num__imputer__strategy=mean \n",
            "[CV]  model__max_depth=5, model__max_features=auto, model__min_samples_split=4, model__n_estimators=100, preprocessor__num__imputer__strategy=mean, total=   0.2s\n",
            "[CV] model__max_depth=5, model__max_features=auto, model__min_samples_split=4, model__n_estimators=100, preprocessor__num__imputer__strategy=mean \n",
            "[CV]  model__max_depth=5, model__max_features=auto, model__min_samples_split=4, model__n_estimators=100, preprocessor__num__imputer__strategy=mean, total=   0.2s\n",
            "[CV] model__max_depth=5, model__max_features=auto, model__min_samples_split=4, model__n_estimators=100, preprocessor__num__imputer__strategy=mean \n",
            "[CV]  model__max_depth=5, model__max_features=auto, model__min_samples_split=4, model__n_estimators=100, preprocessor__num__imputer__strategy=mean, total=   0.2s\n",
            "[CV] model__max_depth=5, model__max_features=auto, model__min_samples_split=4, model__n_estimators=100, preprocessor__num__imputer__strategy=mean \n",
            "[CV]  model__max_depth=5, model__max_features=auto, model__min_samples_split=4, model__n_estimators=100, preprocessor__num__imputer__strategy=mean, total=   0.2s\n",
            "[CV] model__max_depth=5, model__max_features=auto, model__min_samples_split=4, model__n_estimators=100, preprocessor__num__imputer__strategy=mean \n",
            "[CV]  model__max_depth=5, model__max_features=auto, model__min_samples_split=4, model__n_estimators=100, preprocessor__num__imputer__strategy=mean, total=   0.2s\n",
            "[CV] model__max_depth=5, model__max_features=auto, model__min_samples_split=4, model__n_estimators=100, preprocessor__num__imputer__strategy=median \n",
            "[CV]  model__max_depth=5, model__max_features=auto, model__min_samples_split=4, model__n_estimators=100, preprocessor__num__imputer__strategy=median, total=   0.2s\n",
            "[CV] model__max_depth=5, model__max_features=auto, model__min_samples_split=4, model__n_estimators=100, preprocessor__num__imputer__strategy=median \n",
            "[CV]  model__max_depth=5, model__max_features=auto, model__min_samples_split=4, model__n_estimators=100, preprocessor__num__imputer__strategy=median, total=   0.2s\n",
            "[CV] model__max_depth=5, model__max_features=auto, model__min_samples_split=4, model__n_estimators=100, preprocessor__num__imputer__strategy=median \n",
            "[CV]  model__max_depth=5, model__max_features=auto, model__min_samples_split=4, model__n_estimators=100, preprocessor__num__imputer__strategy=median, total=   0.2s\n",
            "[CV] model__max_depth=5, model__max_features=auto, model__min_samples_split=4, model__n_estimators=100, preprocessor__num__imputer__strategy=median \n",
            "[CV]  model__max_depth=5, model__max_features=auto, model__min_samples_split=4, model__n_estimators=100, preprocessor__num__imputer__strategy=median, total=   0.2s\n",
            "[CV] model__max_depth=5, model__max_features=auto, model__min_samples_split=4, model__n_estimators=100, preprocessor__num__imputer__strategy=median \n",
            "[CV]  model__max_depth=5, model__max_features=auto, model__min_samples_split=4, model__n_estimators=100, preprocessor__num__imputer__strategy=median, total=   0.2s\n",
            "[CV] model__max_depth=5, model__max_features=auto, model__min_samples_split=4, model__n_estimators=1000, preprocessor__num__imputer__strategy=mean \n",
            "[CV]  model__max_depth=5, model__max_features=auto, model__min_samples_split=4, model__n_estimators=1000, preprocessor__num__imputer__strategy=mean, total=   1.4s\n",
            "[CV] model__max_depth=5, model__max_features=auto, model__min_samples_split=4, model__n_estimators=1000, preprocessor__num__imputer__strategy=mean \n",
            "[CV]  model__max_depth=5, model__max_features=auto, model__min_samples_split=4, model__n_estimators=1000, preprocessor__num__imputer__strategy=mean, total=   1.4s\n",
            "[CV] model__max_depth=5, model__max_features=auto, model__min_samples_split=4, model__n_estimators=1000, preprocessor__num__imputer__strategy=mean \n",
            "[CV]  model__max_depth=5, model__max_features=auto, model__min_samples_split=4, model__n_estimators=1000, preprocessor__num__imputer__strategy=mean, total=   1.4s\n",
            "[CV] model__max_depth=5, model__max_features=auto, model__min_samples_split=4, model__n_estimators=1000, preprocessor__num__imputer__strategy=mean \n",
            "[CV]  model__max_depth=5, model__max_features=auto, model__min_samples_split=4, model__n_estimators=1000, preprocessor__num__imputer__strategy=mean, total=   1.4s\n",
            "[CV] model__max_depth=5, model__max_features=auto, model__min_samples_split=4, model__n_estimators=1000, preprocessor__num__imputer__strategy=mean \n",
            "[CV]  model__max_depth=5, model__max_features=auto, model__min_samples_split=4, model__n_estimators=1000, preprocessor__num__imputer__strategy=mean, total=   1.4s\n",
            "[CV] model__max_depth=5, model__max_features=auto, model__min_samples_split=4, model__n_estimators=1000, preprocessor__num__imputer__strategy=median \n",
            "[CV]  model__max_depth=5, model__max_features=auto, model__min_samples_split=4, model__n_estimators=1000, preprocessor__num__imputer__strategy=median, total=   1.4s\n",
            "[CV] model__max_depth=5, model__max_features=auto, model__min_samples_split=4, model__n_estimators=1000, preprocessor__num__imputer__strategy=median \n",
            "[CV]  model__max_depth=5, model__max_features=auto, model__min_samples_split=4, model__n_estimators=1000, preprocessor__num__imputer__strategy=median, total=   1.4s\n",
            "[CV] model__max_depth=5, model__max_features=auto, model__min_samples_split=4, model__n_estimators=1000, preprocessor__num__imputer__strategy=median \n",
            "[CV]  model__max_depth=5, model__max_features=auto, model__min_samples_split=4, model__n_estimators=1000, preprocessor__num__imputer__strategy=median, total=   1.4s\n",
            "[CV] model__max_depth=5, model__max_features=auto, model__min_samples_split=4, model__n_estimators=1000, preprocessor__num__imputer__strategy=median \n",
            "[CV]  model__max_depth=5, model__max_features=auto, model__min_samples_split=4, model__n_estimators=1000, preprocessor__num__imputer__strategy=median, total=   1.4s\n",
            "[CV] model__max_depth=5, model__max_features=auto, model__min_samples_split=4, model__n_estimators=1000, preprocessor__num__imputer__strategy=median \n",
            "[CV]  model__max_depth=5, model__max_features=auto, model__min_samples_split=4, model__n_estimators=1000, preprocessor__num__imputer__strategy=median, total=   1.4s\n"
          ]
        },
        {
          "output_type": "stream",
          "name": "stderr",
          "text": [
            "[Parallel(n_jobs=1)]: Done  80 out of  80 | elapsed:  1.2min finished\n"
          ]
        },
        {
          "output_type": "execute_result",
          "data": {
            "text/plain": [
              "GridSearchCV(cv=5, error_score=nan,\n",
              "             estimator=Pipeline(memory=None,\n",
              "                                steps=[('preprocessor',\n",
              "                                        ColumnTransformer(n_jobs=None,\n",
              "                                                          remainder='drop',\n",
              "                                                          sparse_threshold=0.3,\n",
              "                                                          transformer_weights=None,\n",
              "                                                          transformers=[('cat',\n",
              "                                                                         Pipeline(memory=None,\n",
              "                                                                                  steps=[('imputer',\n",
              "                                                                                          SimpleImputer(add_indicator=False,\n",
              "                                                                                                        copy=True,\n",
              "                                                                                                        fill_value='missing',\n",
              "                                                                                                        missing_values=nan,\n",
              "                                                                                                        strategy='constant',\n",
              "                                                                                                        verbo...\n",
              "                                                              verbose=0,\n",
              "                                                              warm_start=False))],\n",
              "                                verbose=False),\n",
              "             iid='deprecated', n_jobs=None,\n",
              "             param_grid={'model__max_depth': [None, 5],\n",
              "                         'model__max_features': ['auto'],\n",
              "                         'model__min_samples_split': [2, 4],\n",
              "                         'model__n_estimators': [100, 1000],\n",
              "                         'preprocessor__num__imputer__strategy': ['mean',\n",
              "                                                                  'median']},\n",
              "             pre_dispatch='2*n_jobs', refit=True, return_train_score=False,\n",
              "             scoring=None, verbose=2)"
            ]
          },
          "metadata": {},
          "execution_count": 74
        }
      ]
    },
    {
      "cell_type": "code",
      "metadata": {
        "colab": {
          "base_uri": "https://localhost:8080/"
        },
        "id": "xhJH5nSRpdIV",
        "outputId": "b55a2334-2bfb-4557-9704-000abf857b92"
      },
      "source": [
        "gs_model.score(X_test, y_test)"
      ],
      "execution_count": 75,
      "outputs": [
        {
          "output_type": "execute_result",
          "data": {
            "text/plain": [
              "0.37718257415841294"
            ]
          },
          "metadata": {},
          "execution_count": 75
        }
      ]
    },
    {
      "cell_type": "code",
      "metadata": {
        "id": "WO8nAET_qek0"
      },
      "source": [
        ""
      ],
      "execution_count": null,
      "outputs": []
    }
  ]
}